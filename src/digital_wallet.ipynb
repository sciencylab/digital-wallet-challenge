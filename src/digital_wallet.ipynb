{
 "cells": [
  {
   "cell_type": "code",
   "execution_count": 3,
   "metadata": {},
   "outputs": [],
   "source": [
    "from antifraud import read_adj_dict_from_file  # function to read in file\n",
    "name = '../paymo_input/batch_payment.txt'\n",
    "adj_list = read_adj_dict_from_file (name)"
   ]
  },
  {
   "cell_type": "code",
   "execution_count": 5,
   "metadata": {},
   "outputs": [
    {
     "data": {
      "text/plain": [
       "[49466, 6989, 52349, 8552, 32639, 2562, 15381, 13167, 17052, 6289]"
      ]
     },
     "execution_count": 5,
     "metadata": {},
     "output_type": "execute_result"
    }
   ],
   "source": [
    "adj_keys = list (adj_list.keys ())\n",
    "adj_keys [:10]"
   ]
  },
  {
   "cell_type": "code",
   "execution_count": 11,
   "metadata": {},
   "outputs": [],
   "source": [
    "def next_degree_friends (friends, adj_dict):\n",
    "    if not isinstance (friends, list):\n",
    "        friends = [friends]\n",
    "    friends_of_friends = []\n",
    "    \n",
    "    for x in friends:\n",
    "        for friend in adj_dict [x]:\n",
    "            friends_of_friends.append (friend)\n",
    "    return friends_of_friends"
   ]
  },
  {
   "cell_type": "code",
   "execution_count": 13,
   "metadata": {},
   "outputs": [],
   "source": [
    "def is_nth_neighbors (a, b, n, adj_dict):\n",
    "    friends = [a]\n",
    "    \n",
    "    visited = friends.copy ()\n",
    "\n",
    "    for k in range (n):\n",
    "        if len (friends) == 0:\n",
    "            break\n",
    "        friends = next_degree_friends (friends, adj_dict)\n",
    "        for friend in friends:\n",
    "            if friend not in visited:\n",
    "                visited.append (friend)\n",
    "            \n",
    "        if b in friends:\n",
    "            return k + 1\n",
    "    return -1"
   ]
  },
  {
   "cell_type": "code",
   "execution_count": 14,
   "metadata": {},
   "outputs": [
    {
     "data": {
      "text/plain": [
       "[6989]"
      ]
     },
     "execution_count": 14,
     "metadata": {},
     "output_type": "execute_result"
    }
   ],
   "source": [
    "next_degree_friends (49466, adj_list)"
   ]
  },
  {
   "cell_type": "code",
   "execution_count": 15,
   "metadata": {
    "collapsed": true
   },
   "outputs": [
    {
     "data": {
      "text/plain": [
       "[49466,\n",
       " 49468,\n",
       " 11302,\n",
       " 49467,\n",
       " 968,\n",
       " 20292,\n",
       " 9623,\n",
       " 13355,\n",
       " 44088,\n",
       " 21963,\n",
       " 434,\n",
       " 5057,\n",
       " 21996,\n",
       " 17510,\n",
       " 2586,\n",
       " 26652,\n",
       " 7791,\n",
       " 17578,\n",
       " 5718,\n",
       " 9539,\n",
       " 49465,\n",
       " 5516,\n",
       " 1118,\n",
       " 7167,\n",
       " 3129,\n",
       " 34,\n",
       " 13408,\n",
       " 10990,\n",
       " 14978,\n",
       " 13636,\n",
       " 2816,\n",
       " 970,\n",
       " 13081,\n",
       " 11029,\n",
       " 9697,\n",
       " 15519,\n",
       " 3662,\n",
       " 8167]"
      ]
     },
     "execution_count": 15,
     "metadata": {},
     "output_type": "execute_result"
    }
   ],
   "source": [
    "_ = next_degree_friends ([6989], adj_list)\n",
    "_"
   ]
  },
  {
   "cell_type": "code",
   "execution_count": 16,
   "metadata": {
    "collapsed": true
   },
   "outputs": [
    {
     "data": {
      "text/plain": [
       "[9778,\n",
       " 6989,\n",
       " 34835,\n",
       " 4428,\n",
       " 33107,\n",
       " 57300,\n",
       " 57299,\n",
       " 8704,\n",
       " 43337,\n",
       " 14857,\n",
       " 31945,\n",
       " 49906,\n",
       " 731,\n",
       " 9082,\n",
       " 4758,\n",
       " 2836,\n",
       " 8319,\n",
       " 26715,\n",
       " 8231,\n",
       " 2470,\n",
       " 12185,\n",
       " 8890,\n",
       " 131,\n",
       " 5707,\n",
       " 35973,\n",
       " 7617,\n",
       " 5930,\n",
       " 6017,\n",
       " 13673,\n",
       " 1635,\n",
       " 185,\n",
       " 7459,\n",
       " 5117,\n",
       " 12546,\n",
       " 9948,\n",
       " 13474,\n",
       " 733,\n",
       " 6040,\n",
       " 5959,\n",
       " 2450,\n",
       " 8603,\n",
       " 2926,\n",
       " 9677,\n",
       " 5988,\n",
       " 17578,\n",
       " 10900,\n",
       " 8857,\n",
       " 8766,\n",
       " 7474,\n",
       " 5375,\n",
       " 5090,\n",
       " 9806]"
      ]
     },
     "execution_count": 16,
     "metadata": {},
     "output_type": "execute_result"
    }
   ],
   "source": [
    "_ = next_degree_friends ([11302], adj_list)\n",
    "_"
   ]
  },
  {
   "cell_type": "code",
   "execution_count": 20,
   "metadata": {
    "collapsed": true
   },
   "outputs": [
    {
     "data": {
      "text/plain": [
       "[27066,\n",
       " 54615,\n",
       " 11302,\n",
       " 8602,\n",
       " 40046,\n",
       " 21753,\n",
       " 23953,\n",
       " 29888,\n",
       " 8993,\n",
       " 13130,\n",
       " 33984,\n",
       " 25854,\n",
       " 4127,\n",
       " 21746,\n",
       " 907,\n",
       " 23639,\n",
       " 21986,\n",
       " 8391,\n",
       " 36463,\n",
       " 4835,\n",
       " 12578,\n",
       " 19363,\n",
       " 2207,\n",
       " 5547,\n",
       " 20979,\n",
       " 941,\n",
       " 15443,\n",
       " 36784,\n",
       " 4951,\n",
       " 10465,\n",
       " 12580,\n",
       " 85,\n",
       " 1672,\n",
       " 21995,\n",
       " 2181,\n",
       " 1763,\n",
       " 31672,\n",
       " 33880,\n",
       " 8758,\n",
       " 4957,\n",
       " 1314,\n",
       " 4926,\n",
       " 4338,\n",
       " 21039,\n",
       " 14286,\n",
       " 19479,\n",
       " 12166,\n",
       " 12878,\n",
       " 4964,\n",
       " 3549,\n",
       " 740,\n",
       " 10628,\n",
       " 5703,\n",
       " 4257,\n",
       " 6250,\n",
       " 15524,\n",
       " 1238,\n",
       " 6089,\n",
       " 13095,\n",
       " 23955,\n",
       " 2938,\n",
       " 4893,\n",
       " 29981,\n",
       " 7455,\n",
       " 11307,\n",
       " 366,\n",
       " 9855,\n",
       " 18380,\n",
       " 6046,\n",
       " 10088,\n",
       " 267,\n",
       " 4673,\n",
       " 381,\n",
       " 23674,\n",
       " 16889,\n",
       " 4700,\n",
       " 11699,\n",
       " 2757,\n",
       " 14987,\n",
       " 6280,\n",
       " 13942,\n",
       " 2466,\n",
       " 1890,\n",
       " 265,\n",
       " 10941,\n",
       " 2116,\n",
       " 8683,\n",
       " 3583,\n",
       " 7892,\n",
       " 11824,\n",
       " 12895,\n",
       " 4805,\n",
       " 6168,\n",
       " 282,\n",
       " 2961,\n",
       " 3093,\n",
       " 11029,\n",
       " 6261,\n",
       " 27803,\n",
       " 5532,\n",
       " 2092,\n",
       " 4554,\n",
       " 13624,\n",
       " 3081,\n",
       " 8235,\n",
       " 11262,\n",
       " 8529,\n",
       " 20851]"
      ]
     },
     "execution_count": 20,
     "metadata": {},
     "output_type": "execute_result"
    }
   ],
   "source": [
    "_ = next_degree_friends ([9778], adj_list)\n",
    "_"
   ]
  },
  {
   "cell_type": "code",
   "execution_count": 22,
   "metadata": {
    "scrolled": true
   },
   "outputs": [
    {
     "name": "stdout",
     "output_type": "stream",
     "text": [
      "CPU times: user 2min 52s, sys: 43.8 ms, total: 2min 52s\n",
      "Wall time: 2min 52s\n"
     ]
    },
    {
     "data": {
      "text/plain": [
       "4"
      ]
     },
     "execution_count": 22,
     "metadata": {},
     "output_type": "execute_result"
    }
   ],
   "source": [
    "%%time\n",
    "is_nth_neighbors (49466, 27066, 4, adj_list)"
   ]
  },
  {
   "cell_type": "code",
   "execution_count": null,
   "metadata": {},
   "outputs": [],
   "source": []
  },
  {
   "cell_type": "code",
   "execution_count": null,
   "metadata": {},
   "outputs": [],
   "source": []
  },
  {
   "cell_type": "code",
   "execution_count": null,
   "metadata": {},
   "outputs": [],
   "source": []
  },
  {
   "cell_type": "code",
   "execution_count": null,
   "metadata": {},
   "outputs": [],
   "source": []
  }
 ],
 "metadata": {
  "kernelspec": {
   "display_name": "Python 3",
   "language": "python",
   "name": "python3"
  },
  "language_info": {
   "codemirror_mode": {
    "name": "ipython",
    "version": 3
   },
   "file_extension": ".py",
   "mimetype": "text/x-python",
   "name": "python",
   "nbconvert_exporter": "python",
   "pygments_lexer": "ipython3",
   "version": "3.7.1"
  }
 },
 "nbformat": 4,
 "nbformat_minor": 2
}
