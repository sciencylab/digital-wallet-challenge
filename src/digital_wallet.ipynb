{
 "cells": [
  {
   "cell_type": "code",
   "execution_count": 1,
   "metadata": {},
   "outputs": [
    {
     "name": "stdout",
     "output_type": "stream",
     "text": [
      "CPU times: user 21.1 s, sys: 192 ms, total: 21.3 s\n",
      "Wall time: 21.3 s\n"
     ]
    }
   ],
   "source": [
    "%%time\n",
    "from antifraud import read_adj_dict_from_file  # function to read in file\n",
    "name = '../paymo_input/batch_payment.txt'\n",
    "adj_list = read_adj_dict_from_file (name)"
   ]
  },
  {
   "cell_type": "code",
   "execution_count": 2,
   "metadata": {},
   "outputs": [
    {
     "data": {
      "text/plain": [
       "[49466, 6989, 52349, 8552, 32639, 2562, 15381, 13167, 17052, 6289]"
      ]
     },
     "execution_count": 2,
     "metadata": {},
     "output_type": "execute_result"
    }
   ],
   "source": [
    "adj_keys = list (adj_list.keys ())\n",
    "adj_keys [:10]"
   ]
  },
  {
   "cell_type": "code",
   "execution_count": 6,
   "metadata": {},
   "outputs": [],
   "source": [
    "def next_degree_friends (friends, adj_dict):\n",
    "    assert isinstance (friends, set)\n",
    "    \n",
    "    friends_of_friends = set ()  # initialize as empty set\n",
    "    \n",
    "    for x in friends:\n",
    "        friends_of_friends.update (adj_dict [x]) # A.update (B) is the same as A union B\n",
    "    \n",
    "    return friends_of_friends\n"
   ]
  },
  {
   "cell_type": "code",
   "execution_count": 45,
   "metadata": {},
   "outputs": [],
   "source": [
    "def is_nth_neighbors (a, b, n, adj_dict):\n",
    "    \n",
    "    \n",
    "    # check to see if both nodes are in graph\n",
    "    if a not in adj_dict.keys () or b not in adj_dict.keys ():\n",
    "        return -1\n",
    "    \n",
    "    friends = set ([a])\n",
    "    visited = friends \n",
    "    \n",
    "    for k in range (n):\n",
    "        if len (friends) == 0:\n",
    "            break\n",
    "        \n",
    "        friends = next_degree_friends (friends, adj_dict) - visited\n",
    "        \n",
    "        if b in friends:\n",
    "            return k + 1\n",
    "        \n",
    "        visited.update (friends)\n",
    "        \n",
    "    return -1"
   ]
  },
  {
   "cell_type": "code",
   "execution_count": 52,
   "metadata": {
    "scrolled": true
   },
   "outputs": [
    {
     "name": "stdout",
     "output_type": "stream",
     "text": [
      "CPU times: user 6 µs, sys: 0 ns, total: 6 µs\n",
      "Wall time: 9.06 µs\n"
     ]
    },
    {
     "data": {
      "text/plain": [
       "-1"
      ]
     },
     "execution_count": 52,
     "metadata": {},
     "output_type": "execute_result"
    }
   ],
   "source": [
    "%%time\n",
    "\n",
    "# first checks if both nodes are in graph\n",
    "is_nth_neighbors (49466, 27060006, 4, adj_list)"
   ]
  },
  {
   "cell_type": "code",
   "execution_count": 53,
   "metadata": {
    "scrolled": true
   },
   "outputs": [
    {
     "name": "stdout",
     "output_type": "stream",
     "text": [
      "CPU times: user 70.5 ms, sys: 3.98 ms, total: 74.5 ms\n",
      "Wall time: 74.7 ms\n"
     ]
    },
    {
     "data": {
      "text/plain": [
       "4"
      ]
     },
     "execution_count": 53,
     "metadata": {},
     "output_type": "execute_result"
    }
   ],
   "source": [
    "%%time\n",
    "\n",
    "# don't check first if both nodes are in graph\n",
    "is_nth_neighbors (49466, 2706, 4, adj_list)"
   ]
  },
  {
   "cell_type": "code",
   "execution_count": null,
   "metadata": {},
   "outputs": [],
   "source": []
  },
  {
   "cell_type": "code",
   "execution_count": null,
   "metadata": {},
   "outputs": [],
   "source": []
  }
 ],
 "metadata": {
  "kernelspec": {
   "display_name": "Python 3",
   "language": "python",
   "name": "python3"
  },
  "language_info": {
   "codemirror_mode": {
    "name": "ipython",
    "version": 3
   },
   "file_extension": ".py",
   "mimetype": "text/x-python",
   "name": "python",
   "nbconvert_exporter": "python",
   "pygments_lexer": "ipython3",
   "version": "3.7.1"
  }
 },
 "nbformat": 4,
 "nbformat_minor": 2
}
