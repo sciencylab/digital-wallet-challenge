{
 "cells": [
  {
   "cell_type": "code",
   "execution_count": 1,
   "metadata": {},
   "outputs": [],
   "source": [
    "from antifraud import read_adj_dict_from_file  # function to read in file\n",
    "from graph_algorithms import next_degree_friends, is_nth_neighbors, degree_list"
   ]
  },
  {
   "cell_type": "markdown",
   "metadata": {},
   "source": [
    "# Read in files"
   ]
  },
  {
   "cell_type": "code",
   "execution_count": 2,
   "metadata": {},
   "outputs": [
    {
     "name": "stdout",
     "output_type": "stream",
     "text": [
      "CPU times: user 21.1 s, sys: 188 ms, total: 21.3 s\n",
      "Wall time: 21.3 s\n"
     ]
    }
   ],
   "source": [
    "%%time\n",
    "name = '../paymo_input/batch_payment.txt'\n",
    "adj_list = read_adj_dict_from_file (name)"
   ]
  },
  {
   "cell_type": "markdown",
   "metadata": {},
   "source": [
    "# Tests"
   ]
  },
  {
   "cell_type": "markdown",
   "metadata": {},
   "source": [
    "#### Check how much time it takes to confirm 2 nodes are 4 deg separated"
   ]
  },
  {
   "cell_type": "code",
   "execution_count": 3,
   "metadata": {
    "scrolled": true
   },
   "outputs": [
    {
     "name": "stdout",
     "output_type": "stream",
     "text": [
      "CPU times: user 48.7 ms, sys: 4.01 ms, total: 52.7 ms\n",
      "Wall time: 52.4 ms\n"
     ]
    },
    {
     "data": {
      "text/plain": [
       "4"
      ]
     },
     "execution_count": 3,
     "metadata": {},
     "output_type": "execute_result"
    }
   ],
   "source": [
    "%%time\n",
    "\n",
    "is_nth_neighbors (49466, 2706, 4, adj_list)"
   ]
  },
  {
   "cell_type": "markdown",
   "metadata": {},
   "source": [
    "#### Confirm that algo knows when a node is not contained in the given graph"
   ]
  },
  {
   "cell_type": "code",
   "execution_count": 4,
   "metadata": {
    "scrolled": true
   },
   "outputs": [
    {
     "name": "stdout",
     "output_type": "stream",
     "text": [
      "CPU times: user 6 µs, sys: 0 ns, total: 6 µs\n",
      "Wall time: 8.58 µs\n"
     ]
    },
    {
     "data": {
      "text/plain": [
       "-1"
      ]
     },
     "execution_count": 4,
     "metadata": {},
     "output_type": "execute_result"
    }
   ],
   "source": [
    "%%time\n",
    "\n",
    "is_nth_neighbors (49466, 27060006, 4, adj_list)"
   ]
  },
  {
   "cell_type": "markdown",
   "metadata": {},
   "source": [
    "#### Checking how much time it takes to traverse the entire graph given in batch_processing.txt\n",
    "Also, printing some interesting statistics regarding the degree of separation from node 49466"
   ]
  },
  {
   "cell_type": "code",
   "execution_count": 14,
   "metadata": {},
   "outputs": [
    {
     "name": "stdout",
     "output_type": "stream",
     "text": [
      "deg of separation:  0, number of nodes: 1\n",
      "deg of separation:  1, number of nodes: 1\n",
      "deg of separation:  2, number of nodes: 37\n",
      "deg of separation:  3, number of nodes: 4501\n",
      "deg of separation:  4, number of nodes: 42831\n",
      "deg of separation:  5, number of nodes: 27365\n",
      "deg of separation:  6, number of nodes: 2400\n",
      "deg of separation:  7, number of nodes: 208\n",
      "deg of separation:  8, number of nodes: 14\n",
      "deg of separation:  9, number of nodes: 2\n",
      "deg of separation: 10, number of nodes: 0\n",
      "\n",
      "\n",
      "CPU times: user 186 ms, sys: 3.97 ms, total: 190 ms\n",
      "Wall time: 191 ms\n"
     ]
    }
   ],
   "source": [
    "%%time\n",
    "# Took 191 ms to completely process graph and calc. & print statitics!\n",
    "\n",
    "\n",
    "# get list of all nodes based on deg of separation\n",
    "deg = degree_list (49466, adj_list, -1)\n",
    "\n",
    "# print out the number of nodes of deg k separated from 49466\n",
    "for k in range (len (deg)):\n",
    "    print (\"deg of separation: {:2}, number of nodes: {}\".format (k, len (deg [k])))\n",
    "print ('\\n')"
   ]
  },
  {
   "cell_type": "code",
   "execution_count": null,
   "metadata": {},
   "outputs": [],
   "source": []
  },
  {
   "cell_type": "code",
   "execution_count": null,
   "metadata": {},
   "outputs": [],
   "source": []
  }
 ],
 "metadata": {
  "kernelspec": {
   "display_name": "Python 3",
   "language": "python",
   "name": "python3"
  },
  "language_info": {
   "codemirror_mode": {
    "name": "ipython",
    "version": 3
   },
   "file_extension": ".py",
   "mimetype": "text/x-python",
   "name": "python",
   "nbconvert_exporter": "python",
   "pygments_lexer": "ipython3",
   "version": "3.7.1"
  }
 },
 "nbformat": 4,
 "nbformat_minor": 2
}
