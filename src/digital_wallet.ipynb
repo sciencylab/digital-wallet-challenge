{
 "cells": [
  {
   "cell_type": "code",
   "execution_count": 1,
   "metadata": {},
   "outputs": [
    {
     "name": "stdout",
     "output_type": "stream",
     "text": [
      "time, id1, id2, amount, message\r\n",
      "2016-11-02 09:38:53, 49466, 6989, 23.74, 🦄 \r\n",
      "2016-11-02 09:38:53, 52349, 8552, 37.10, Pitcher \r\n",
      "2016-11-02 09:38:53, 32639, 2562, 18.68, 🚕 \r\n",
      "2016-11-02 09:38:53, 15381, 13167, 20.92, For your wife. \r\n",
      "2016-11-02 09:38:53, 17052, 6289, 39.09, 🍺🍺🍺🏌🏌🏌 \r\n",
      "2016-11-02 09:38:53, 54008, 15138, 21.74, 🚗🌃 \r\n",
      "2016-11-02 09:38:53, 74050, 45140, 36.92, Best hair stylist on the west coast... And rent \r\n",
      "2016-11-02 09:38:53, 46702, 8034, 32.07, Juice \r\n",
      "2016-11-02 09:38:53, 41480, 22688, 3.19, Milk \r\n"
     ]
    }
   ],
   "source": [
    "!head ../paymo_input/batch_payment.txt"
   ]
  },
  {
   "cell_type": "code",
   "execution_count": 52,
   "metadata": {},
   "outputs": [],
   "source": [
    "name = '../paymo_input/batch_payment.txt'\n",
    "\n",
    "\n",
    "def read_adj_dict_from_file (name, verbose = False):\n",
    "    id1, id2 = read_into_lists (name, verbose)\n",
    "    return adjacency_dict (id1, id2)\n",
    "\n",
    "def read_into_lists (name, verbose = False):\n",
    "    \n",
    "    id1 = []\n",
    "    id2 = []\n",
    "\n",
    "    with open (name, 'r') as file:\n",
    "\n",
    "        file.readline () # don't need the header\n",
    "\n",
    "        for line in file:\n",
    "            try:  # for when the row actually conforms to the header\n",
    "                \n",
    "                # split up into list\n",
    "                ids = line.split (',') \n",
    "\n",
    "                ids = list (map (lambda x: int (x), ids [1:3]))\n",
    "\n",
    "                # read the data into lists\n",
    "                id1.append (ids [0])\n",
    "                id2.append (ids [1])\n",
    "                \n",
    "            except: # for when something's screwy\n",
    "                # see what's wrong\n",
    "                # lol. It's the same 5 or so lines over and over again\n",
    "                # changed default value to false since these lines are meant\n",
    "                # to be ignored.\n",
    "                if verbose: \n",
    "                    print (line)\n",
    "                \n",
    "    return id1, id2\n",
    "\n",
    "def adjacency_dict (list1, list2):\n",
    "    \"\"\"\n",
    "    input: two lists\n",
    "    output: adjacency list in dictionary form\n",
    "    \n",
    "    \n",
    "    # test\n",
    "    test_adj = adjacency_dict (['a', 'a', 'b', 'c', 'd'],\n",
    "                               ['b', 'c', 'c', 'd', 'e'])\n",
    "    test_adj == {'a': ['b', 'c'],\n",
    "                 'b': ['a', 'c'],\n",
    "                 'c': ['a', 'b', 'd'],\n",
    "                 'd': ['c', 'e'],\n",
    "                 'e': ['d']}\n",
    "    \"\"\"\n",
    "    assert len (list1) == len (list2), \"The 2 lists' lengths are not equal.\"\n",
    "\n",
    "    d = {}  # the adjacency list\n",
    "    \n",
    "    for idx in range (len (list1)):\n",
    "        # get the idx-th item of list1 and list2\n",
    "        x, y = list1 [idx], list2 [idx]\n",
    "        \n",
    "        # confirm x & y are in d. if not, initialize to empty list\n",
    "        if x not in d: d [x] = [] \n",
    "        if y not in d: d [y] = [] \n",
    "        \n",
    "        # Add x & y as neighbors, but first making sure the info is new and not redundant\n",
    "        if y not in d [x]: d[x].append (y)\n",
    "        if x not in d [y]: d[y].append (x)\n",
    "    return d"
   ]
  },
  {
   "cell_type": "code",
   "execution_count": 53,
   "metadata": {},
   "outputs": [],
   "source": [
    "adj_list = read_adj_dict_from_file (name)"
   ]
  },
  {
   "cell_type": "code",
   "execution_count": 55,
   "metadata": {},
   "outputs": [
    {
     "name": "stdout",
     "output_type": "stream",
     "text": [
      "49466 [6989]\n",
      "6989 [49466, 49468, 11302, 49467, 968, 20292]\n",
      "52349 [8552]\n",
      "8552 [52349, 52348, 32557, 22507, 729, 42709]\n",
      "32639 [2562, 30019, 16084, 16432, 43892, 38757]\n",
      "2562 [32639, 32656, 32624, 20196, 24533, 32631]\n"
     ]
    }
   ],
   "source": [
    "count = 0\n",
    "for k, v in adj_list.items ():\n",
    "    print (k, v [:6])\n",
    "    count += 1\n",
    "    if count > 5:\n",
    "        break"
   ]
  },
  {
   "cell_type": "code",
   "execution_count": null,
   "metadata": {},
   "outputs": [],
   "source": []
  },
  {
   "cell_type": "code",
   "execution_count": null,
   "metadata": {},
   "outputs": [],
   "source": []
  },
  {
   "cell_type": "code",
   "execution_count": null,
   "metadata": {},
   "outputs": [],
   "source": []
  },
  {
   "cell_type": "code",
   "execution_count": null,
   "metadata": {},
   "outputs": [],
   "source": []
  }
 ],
 "metadata": {
  "kernelspec": {
   "display_name": "Python 3",
   "language": "python",
   "name": "python3"
  },
  "language_info": {
   "codemirror_mode": {
    "name": "ipython",
    "version": 3
   },
   "file_extension": ".py",
   "mimetype": "text/x-python",
   "name": "python",
   "nbconvert_exporter": "python",
   "pygments_lexer": "ipython3",
   "version": "3.7.1"
  }
 },
 "nbformat": 4,
 "nbformat_minor": 2
}
