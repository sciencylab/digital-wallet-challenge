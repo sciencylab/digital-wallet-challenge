{
 "cells": [
  {
   "cell_type": "code",
   "execution_count": 1,
   "metadata": {},
   "outputs": [
    {
     "name": "stdout",
     "output_type": "stream",
     "text": [
      "time, id1, id2, amount, message\r\n",
      "2016-11-02 09:38:53, 49466, 6989, 23.74, 🦄 \r\n",
      "2016-11-02 09:38:53, 52349, 8552, 37.10, Pitcher \r\n",
      "2016-11-02 09:38:53, 32639, 2562, 18.68, 🚕 \r\n",
      "2016-11-02 09:38:53, 15381, 13167, 20.92, For your wife. \r\n",
      "2016-11-02 09:38:53, 17052, 6289, 39.09, 🍺🍺🍺🏌🏌🏌 \r\n",
      "2016-11-02 09:38:53, 54008, 15138, 21.74, 🚗🌃 \r\n",
      "2016-11-02 09:38:53, 74050, 45140, 36.92, Best hair stylist on the west coast... And rent \r\n",
      "2016-11-02 09:38:53, 46702, 8034, 32.07, Juice \r\n",
      "2016-11-02 09:38:53, 41480, 22688, 3.19, Milk \r\n"
     ]
    }
   ],
   "source": [
    "!head ../paymo_input/batch_payment.txt"
   ]
  },
  {
   "cell_type": "code",
   "execution_count": 29,
   "metadata": {},
   "outputs": [],
   "source": [
    "name = '../paymo_input/batch_payment.txt'\n",
    "\n",
    "\n",
    "def read_into_lists (name):\n",
    "    \n",
    "    id1 = []\n",
    "    id2 = []\n",
    "\n",
    "    with open (name, 'r') as file:\n",
    "\n",
    "        file.readline () # don't need the header\n",
    "\n",
    "        for line in file:\n",
    "            try:  # for when the row actually conforms to the header\n",
    "                \n",
    "                # split up into list\n",
    "                ids = line.split (',') \n",
    "\n",
    "                ids = list (map (lambda x: int (x), ids [1:3]))\n",
    "\n",
    "                # read the data into lists\n",
    "                id1.append (ids [0])\n",
    "                id2.append (ids [1])\n",
    "                \n",
    "            except: # for when something's screwy\n",
    "                # see what's wrong\n",
    "                print (line)\n",
    "                \n",
    "    return id1, id2\n"
   ]
  },
  {
   "cell_type": "code",
   "execution_count": 31,
   "metadata": {
    "collapsed": true
   },
   "outputs": [
    {
     "name": "stdout",
     "output_type": "stream",
     "text": [
      " JP HOSA Dues paid in August - 35.00     $17.50\n",
      "\n",
      " CCP Cheer Shoes paid in August - 80.00  $40.00\n",
      "\n",
      " CCP Frequency paid in August - 215.00   $107.50\n",
      "\n",
      " SUBTOTAL        $165.00\n",
      "\n",
      " Susan Paid for Claires contacts $220 the 70/30 rule means Michael owes Susan $145.2 of that amount       Michael Paid Jacks contacts and glasses $363 (30% that is due from Susan is $119.79) - the difference between what were Claires costs and Jacks means that Michael owes Susan $25.41\n",
      "\n",
      " AMOUNT TO PAID TO SUSAN $355.41         11/6/15 \n",
      "\n",
      " JP HOSA Dues paid in August - 35.00     $17.50\n",
      "\n",
      " CCP Cheer Shoes paid in August - 80.00  $40.00\n",
      "\n",
      " CCP Frequency paid in August - 215.00   $107.50\n",
      "\n",
      " SUBTOTAL        $165.00\n",
      "\n",
      " Susan Paid for Claires contacts $220 the 70/30 rule means Michael owes Susan $145.2 of that amount       Michael Paid Jacks contacts and glasses $363 (30% that is due from Susan is $119.79) - the difference between what were Claires costs and Jacks means that Michael owes Susan $25.41\n",
      "\n",
      " AMOUNT TO PAID TO SUSAN $355.41         11/6/15 \n",
      "\n",
      " JP HOSA Dues paid in August - 35.00     $17.50\n",
      "\n",
      " CCP Cheer Shoes paid in August - 80.00  $40.00\n",
      "\n",
      " CCP Frequency paid in August - 215.00   $107.50\n",
      "\n",
      " SUBTOTAL        $165.00\n",
      "\n",
      " Susan Paid for Claires contacts $220 the 70/30 rule means Michael owes Susan $145.2 of that amount       Michael Paid Jacks contacts and glasses $363 (30% that is due from Susan is $119.79) - the difference between what were Claires costs and Jacks means that Michael owes Susan $25.41\n",
      "\n",
      " AMOUNT TO PAID TO SUSAN $355.41         11/6/15 \n",
      "\n",
      " JP HOSA Dues paid in August - 35.00     $17.50\n",
      "\n",
      " CCP Cheer Shoes paid in August - 80.00  $40.00\n",
      "\n",
      " CCP Frequency paid in August - 215.00   $107.50\n",
      "\n",
      " SUBTOTAL        $165.00\n",
      "\n",
      " Susan Paid for Claires contacts $220 the 70/30 rule means Michael owes Susan $145.2 of that amount       Michael Paid Jacks contacts and glasses $363 (30% that is due from Susan is $119.79) - the difference between what were Claires costs and Jacks means that Michael owes Susan $25.41\n",
      "\n",
      " AMOUNT TO PAID TO SUSAN $355.41         11/6/15 \n",
      "\n",
      " JP HOSA Dues paid in August - 35.00     $17.50\n",
      "\n",
      " CCP Cheer Shoes paid in August - 80.00  $40.00\n",
      "\n",
      " CCP Frequency paid in August - 215.00   $107.50\n",
      "\n",
      " SUBTOTAL        $165.00\n",
      "\n",
      " Susan Paid for Claires contacts $220 the 70/30 rule means Michael owes Susan $145.2 of that amount       Michael Paid Jacks contacts and glasses $363 (30% that is due from Susan is $119.79) - the difference between what were Claires costs and Jacks means that Michael owes Susan $25.41\n",
      "\n",
      " AMOUNT TO PAID TO SUSAN $355.41         11/6/15 \n",
      "\n",
      " JP HOSA Dues paid in August - 35.00     $17.50\n",
      "\n",
      " CCP Cheer Shoes paid in August - 80.00  $40.00\n",
      "\n",
      " CCP Frequency paid in August - 215.00   $107.50\n",
      "\n",
      " SUBTOTAL        $165.00\n",
      "\n",
      " Susan Paid for Claires contacts $220 the 70/30 rule means Michael owes Susan $145.2 of that amount       Michael Paid Jacks contacts and glasses $363 (30% that is due from Susan is $119.79) - the difference between what were Claires costs and Jacks means that Michael owes Susan $25.41\n",
      "\n",
      " AMOUNT TO PAID TO SUSAN $355.41         11/6/15 \n",
      "\n",
      " JP HOSA Dues paid in August - 35.00     $17.50\n",
      "\n",
      " CCP Cheer Shoes paid in August - 80.00  $40.00\n",
      "\n",
      " CCP Frequency paid in August - 215.00   $107.50\n",
      "\n",
      " SUBTOTAL        $165.00\n",
      "\n",
      " Susan Paid for Claires contacts $220 the 70/30 rule means Michael owes Susan $145.2 of that amount       Michael Paid Jacks contacts and glasses $363 (30% that is due from Susan is $119.79) - the difference between what were Claires costs and Jacks means that Michael owes Susan $25.41\n",
      "\n",
      " AMOUNT TO PAID TO SUSAN $355.41         11/6/15 \n",
      "\n",
      " JP HOSA Dues paid in August - 35.00     $17.50\n",
      "\n",
      " CCP Cheer Shoes paid in August - 80.00  $40.00\n",
      "\n",
      " CCP Frequency paid in August - 215.00   $107.50\n",
      "\n",
      " SUBTOTAL        $165.00\n",
      "\n",
      " Susan Paid for Claires contacts $220 the 70/30 rule means Michael owes Susan $145.2 of that amount       Michael Paid Jacks contacts and glasses $363 (30% that is due from Susan is $119.79) - the difference between what were Claires costs and Jacks means that Michael owes Susan $25.41\n",
      "\n",
      " AMOUNT TO PAID TO SUSAN $355.41         11/6/15 \n",
      "\n"
     ]
    }
   ],
   "source": [
    "id1, id2 = read_into_lists (name)"
   ]
  },
  {
   "cell_type": "code",
   "execution_count": 32,
   "metadata": {},
   "outputs": [
    {
     "name": "stdout",
     "output_type": "stream",
     "text": [
      "[49466, 52349, 32639, 15381, 17052, 54008, 74050, 46702, 41480, 47846]\n",
      "[6989, 8552, 2562, 13167, 6289, 15138, 45140, 8034, 22688, 6067]\n"
     ]
    }
   ],
   "source": [
    "print (id1 [:10])\n",
    "print (id2 [:10])"
   ]
  },
  {
   "cell_type": "markdown",
   "metadata": {},
   "source": [
    "## Create adjacency list"
   ]
  },
  {
   "cell_type": "code",
   "execution_count": 43,
   "metadata": {},
   "outputs": [],
   "source": [
    "def adjacency_list (list1, list2):\n",
    "\n",
    "    assert len (list1) == len (list2), \"The 2 lists' lengths are not equal.\"\n",
    "\n",
    "    d = []  # the adjacency list\n",
    "    \n",
    "    for idx in range (len (list1)):\n",
    "        # get the idx-th item of list1 and list2\n",
    "        x, y = list1 [idx], list2 [idx]\n",
    "        \n",
    "        # confirm x & y are in d. if not, initialize to empty list\n",
    "        if x not in d: d [x] = [] \n",
    "        if y not in d: d [y] = [] \n",
    "        \n",
    "        # Add x & y as neighbors, but first making sure the info is new and not redundant\n",
    "        if y not in d [x]: d[x].append (y)\n",
    "        if x not in d [y]: d[y].append (x)\n",
    "    return d"
   ]
  },
  {
   "cell_type": "code",
   "execution_count": 34,
   "metadata": {},
   "outputs": [],
   "source": [
    "adj_list = adjacency_list (id1, id2)"
   ]
  },
  {
   "cell_type": "code",
   "execution_count": 40,
   "metadata": {
    "collapsed": true
   },
   "outputs": [
    {
     "name": "stdout",
     "output_type": "stream",
     "text": [
      "49466 [6989]\n",
      "6989 [49466, 49468, 11302, 49467, 968, 20292, 9623, 13355, 44088, 21963, 434, 5057, 21996, 17510, 2586, 26652, 7791, 17578, 5718, 9539, 49465, 5516, 1118, 7167, 3129, 34, 13408, 10990, 14978, 13636, 2816, 970, 13081, 11029, 9697, 15519, 3662, 8167]\n",
      "52349 [8552]\n",
      "8552 [52349, 52348, 32557, 22507, 729, 42709, 2803, 6719, 1874, 56, 5569, 5061, 7379, 5900, 2662, 477, 26745, 36685, 15099, 662, 28843, 10214, 5008, 3582, 1825, 3359, 19038, 3081]\n",
      "32639 [2562, 30019, 16084, 16432, 43892, 38757, 29004]\n",
      "2562 [32639, 32656, 32624, 20196, 24533, 32631, 32623, 5162, 13224, 32648, 8941, 32664, 12408, 32650, 32646, 32667, 32633, 25625, 10909, 22160, 32657, 32649, 32634, 32651, 22799, 21406, 32638, 32660, 32662, 32643, 32644, 23781, 18652, 32635, 32626, 5134, 11196, 24746, 23065, 32658, 5340, 31928, 32647, 32666, 32655, 16593, 13483, 32642, 7806, 32645, 5142, 32625, 32654, 5897, 8830, 24062, 15778, 32652, 32659, 11794, 32661, 4669, 4930, 32653, 2396, 13243, 32665, 32628, 10724, 6241, 32641, 17253, 25629, 32630, 32636, 32663, 7462, 8615, 20551, 31937, 15400, 14790, 15653, 5342, 10219, 25302, 2175, 17851, 8930, 10165, 12465, 20565, 32627, 10193, 7138, 7567, 7744, 5092, 2835, 3570, 17806, 11350, 12341, 17811, 32640, 32632, 5703, 8770, 9850, 8612, 8518, 10988, 6387, 8824, 13241, 4939, 15529, 15772, 22800, 32637, 12855, 11710, 21351, 23127, 9485, 283, 7540, 2762, 4943, 32629, 28523, 8879, 15349, 5198, 185, 4931, 5715, 16654, 4596, 16890, 8628, 3389, 10714, 3924, 7604, 12728, 27885, 13925, 381, 8750, 46, 10863, 7450, 4948, 6476, 6218, 8632, 595, 112, 20511, 5728, 5436, 8198, 8397, 4828, 15342, 18145, 8183, 5370, 2605, 4938, 4672, 2964, 5372, 1386, 8311, 4448, 5050, 10427, 1211, 5973, 7482, 5421, 10696, 5192, 7728, 403, 10057, 2286, 8393, 2489, 8912, 5759, 6232, 400, 7579, 3086, 2932, 3242, 3470, 143, 5199]\n",
      "15381 [13167, 281, 31751, 8763, 4656, 2999, 3046, 13937, 15817]\n",
      "13167 [15381, 59866, 59854, 24509, 59862, 59855, 35285, 59865, 46696, 59856, 39392, 59864, 59863, 57608, 46227, 56428, 10003, 45019, 16492, 9876, 5851, 10399, 37123, 11960, 59860, 38647, 40067, 20414, 48115, 24303, 32125, 15454, 9349, 7344, 56651, 15824, 55428, 17625, 8241, 26992, 59857, 33395, 59861, 15728, 25533, 35113, 9732, 23684, 59853, 19422, 21912, 12308, 9867, 54102, 33926, 15815, 24122, 29171, 28260, 9412, 28109, 59858, 14426, 23186, 31033, 26401, 34880, 18306, 35605, 8171, 18238, 59859, 38238, 11595, 28476, 43112, 20565, 6258, 39289, 59867, 23602, 42266, 20091, 3579, 9965, 25652, 7327, 22062, 32737, 9410, 11258, 28008, 4495, 51962, 46609, 37543, 28951, 18340, 3342, 14791, 38701, 25303, 4924, 33938, 595, 15845, 36297, 9443, 7473, 12165, 11447, 20375, 10352, 15888, 18807, 15847, 26420, 9566, 11339, 8673, 15866, 227, 21932, 18821, 21492, 9791, 6241, 18186, 16504, 11656, 12233, 16063, 10348, 4675, 3481, 5014, 10775, 12825, 10306, 15660, 4572, 10721, 10913, 8854, 6419, 15260, 19084, 16234, 8518, 8118, 11233, 15939, 5715, 5853, 16287, 6269, 8697, 15220, 10743, 7839, 24908, 13941, 3462, 15090, 5198, 5753, 4992, 8313, 3361, 3115, 1641, 6222, 11177, 8629, 13126, 19197, 2862, 4872, 15988, 14593, 7706, 8578, 14764, 4610, 5739, 5131, 3127, 3198, 3766, 4699, 3130, 13137, 2863, 403, 198, 2836, 5759, 4522, 11353]\n",
      "17052 [6289, 398, 63813]\n",
      "6289 [17052, 48589, 48608, 48617, 48585, 20266, 48602, 48601, 48604, 23466, 20256, 48599, 48582, 25731, 37446, 48583, 48603, 48586, 5261, 23496, 48588, 33210, 48600, 20258, 20254, 16991, 13291, 31847, 26418, 6855, 18606, 90, 13764, 48611, 13158, 1506, 48613, 33267, 32519, 46651, 48592, 20247, 48597, 48594, 48621, 34366, 41149, 48616, 48609, 48598, 48593, 16954, 38537, 28601, 42665, 19743, 7305, 4720, 10490, 13154, 41113, 71360, 41034, 18998, 16953, 18655, 30539, 48606, 7022, 48587, 30205, 20249, 6509, 15009, 48614, 12578, 1832, 48591, 12921, 14860, 10570, 27389, 20259, 18628, 921, 20255, 20257, 24603, 4328, 40588, 2081, 38026, 20251, 26868, 16553, 16949, 20275, 48584, 22204, 26776, 18995, 769, 48612, 43312, 20271, 12955, 17009, 15125, 20267, 24956, 20261, 20250, 13652, 20263, 48590, 16947, 12224, 48610, 36564, 18535, 26825, 14974, 13409, 48605, 20274, 48595, 18514, 772, 20264, 10396, 26767, 1713, 20252, 35545, 11974, 48619, 48607, 20273, 13153, 18150, 27934, 31710, 11383, 32907, 34022, 12227, 48404, 17110, 12913, 48615, 17019, 26468, 13343, 17022, 31453, 9620, 14858, 20269, 36774, 5488, 1389, 13156, 18721, 48618, 17011, 17006, 12330, 6891, 1995, 28512, 26307, 12262, 41634, 37519, 17003, 49317, 48620, 37698, 1092, 28360, 6123, 31672, 7311, 17107, 17076, 20262, 20268, 6119, 18507, 17108, 20272, 23540, 18512, 14084, 18454, 22013, 22426, 208, 7988, 24837, 1144, 31787, 48596, 12542, 12240, 23474, 6108, 27947, 6397, 9097, 3014, 18518, 12594, 18508, 6109, 951, 2011, 4705, 18506, 6134, 41, 17066, 13548, 8888, 153, 25224, 18231, 2066, 33912, 8076, 10972, 10137, 7982, 13890, 32484, 10726, 6791, 20260, 14960, 1855, 4910, 29643, 12060, 20276, 19344, 3784, 18489, 6533, 8310, 17661, 880, 12235, 9262, 13160, 12239, 616, 2111, 20265, 17073, 6135, 44556, 12666, 21326, 2585, 3401, 7878, 1432, 6707, 6071, 25498, 4918, 12234, 30478, 5492, 14057, 7974, 4722, 12963, 38633, 6659, 13469, 5530, 1258, 1304, 5476, 12556, 4987, 12983, 16971, 12662, 2002, 2721, 7876, 12179, 9949, 2762, 5229, 1282, 16636, 5495, 19420, 1936, 1790, 8091, 12933, 1054, 1892, 7854, 10935, 13727, 5491, 2349, 16714, 163, 12391, 5217, 8279, 2358, 15538, 10395, 7420, 2461, 2441, 9460, 12191, 10719, 7125, 17097, 2307, 1715, 18146, 10135, 14238, 846, 30862, 943, 27997, 17075, 11820, 22618, 17215, 12050, 631, 6733, 13155, 8058, 12956, 7863, 12054, 1944, 6072, 11516, 642, 5040, 4837, 12079, 13157, 332, 30939, 5473, 15355, 25473, 5489, 2747, 132, 440, 12962, 719, 6196, 6118, 2809, 8102, 5986, 14327, 1348, 12472, 17801, 368, 14844, 16395, 8079, 18475, 6476, 8509, 7743, 6130, 5471, 6133, 8207, 6131, 5486, 5533, 12765, 7631, 5540, 39993, 12075, 1346, 2247, 12065, 6132, 4445, 7769, 8080, 25444, 15014, 2133, 5490, 1527, 5863, 11030, 10269, 1219, 11413, 2350, 10139, 8133, 2334, 16832, 8048, 6116, 8851, 7868, 15896, 5583, 2119, 3735, 18768, 6120, 26688, 1769, 5952, 1042, 5513, 2499, 5280, 16921, 7909, 5520, 4667, 19, 5506, 1254, 3128, 4808, 6051, 12062, 4756, 63813, 5516, 49, 1356, 11402, 6232, 6029, 4985, 1970, 6125, 13488, 4742, 12953, 6115, 5521, 1477, 46, 8128, 7717, 6364, 1440, 7778, 2184, 5226, 1108, 10502, 2839, 510, 546, 8337, 16969, 5922, 8097, 2602, 398, 2593, 34, 2811]\n",
      "54008 [15138, 9465, 40927]\n"
     ]
    }
   ],
   "source": [
    "count = 0\n",
    "for k, v in adj_list.items ():\n",
    "    print (k, v)\n",
    "    count += 1\n",
    "    if count > 10:\n",
    "        break"
   ]
  },
  {
   "cell_type": "code",
   "execution_count": 45,
   "metadata": {},
   "outputs": [
    {
     "ename": "SyntaxError",
     "evalue": "invalid syntax (<ipython-input-45-fd203436308e>, line 4)",
     "output_type": "error",
     "traceback": [
      "\u001b[0;36m  File \u001b[0;32m\"<ipython-input-45-fd203436308e>\"\u001b[0;36m, line \u001b[0;32m4\u001b[0m\n\u001b[0;31m    test_adj == ['a': ['b', 'c'],\u001b[0m\n\u001b[0m                    ^\u001b[0m\n\u001b[0;31mSyntaxError\u001b[0m\u001b[0;31m:\u001b[0m invalid syntax\n"
     ]
    }
   ],
   "source": [
    "# test\n",
    "test_adj = adjacency_list (['a', 'a', 'b', 'c', 'd'],\n",
    "                           ['b', 'c', 'c', 'd', 'e'])\n",
    "test_adj == 'a': ['b', 'c'],\n",
    "             'b': ['a', 'c'],\n",
    "             'c': ['a', 'b', 'd'],\n",
    "             'd': ['c', 'e'],\n",
    "             'e': ['d']]"
   ]
  },
  {
   "cell_type": "code",
   "execution_count": null,
   "metadata": {},
   "outputs": [],
   "source": []
  }
 ],
 "metadata": {
  "kernelspec": {
   "display_name": "Python 3",
   "language": "python",
   "name": "python3"
  },
  "language_info": {
   "codemirror_mode": {
    "name": "ipython",
    "version": 3
   },
   "file_extension": ".py",
   "mimetype": "text/x-python",
   "name": "python",
   "nbconvert_exporter": "python",
   "pygments_lexer": "ipython3",
   "version": "3.7.1"
  }
 },
 "nbformat": 4,
 "nbformat_minor": 2
}
