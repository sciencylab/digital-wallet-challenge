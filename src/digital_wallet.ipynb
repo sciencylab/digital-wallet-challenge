{
 "cells": [
  {
   "cell_type": "code",
   "execution_count": 1,
   "metadata": {},
   "outputs": [
    {
     "name": "stdout",
     "output_type": "stream",
     "text": [
      "time, id1, id2, amount, message\r\n",
      "2016-11-02 09:38:53, 49466, 6989, 23.74, 🦄 \r\n",
      "2016-11-02 09:38:53, 52349, 8552, 37.10, Pitcher \r\n",
      "2016-11-02 09:38:53, 32639, 2562, 18.68, 🚕 \r\n",
      "2016-11-02 09:38:53, 15381, 13167, 20.92, For your wife. \r\n",
      "2016-11-02 09:38:53, 17052, 6289, 39.09, 🍺🍺🍺🏌🏌🏌 \r\n",
      "2016-11-02 09:38:53, 54008, 15138, 21.74, 🚗🌃 \r\n",
      "2016-11-02 09:38:53, 74050, 45140, 36.92, Best hair stylist on the west coast... And rent \r\n",
      "2016-11-02 09:38:53, 46702, 8034, 32.07, Juice \r\n",
      "2016-11-02 09:38:53, 41480, 22688, 3.19, Milk \r\n"
     ]
    }
   ],
   "source": [
    "!head ../paymo_input/batch_payment.txt"
   ]
  },
  {
   "cell_type": "code",
   "execution_count": 29,
   "metadata": {},
   "outputs": [],
   "source": [
    "name = '../paymo_input/batch_payment.txt'\n",
    "\n",
    "\n",
    "def read_into_lists (name):\n",
    "    \n",
    "    id1 = []\n",
    "    id2 = []\n",
    "\n",
    "    with open (name, 'r') as file:\n",
    "\n",
    "        file.readline () # don't need the header\n",
    "\n",
    "        for line in file:\n",
    "            try:  # for when the row actually conforms to the header\n",
    "                \n",
    "                # split up into list\n",
    "                ids = line.split (',') \n",
    "\n",
    "                ids = list (map (lambda x: int (x), ids [1:3]))\n",
    "\n",
    "                # read the data into lists\n",
    "                id1.append (ids [0])\n",
    "                id2.append (ids [1])\n",
    "                \n",
    "            except: # for when something's screwy\n",
    "                # see what's wrong\n",
    "                print (line)\n",
    "                \n",
    "    return id1, id2\n"
   ]
  },
  {
   "cell_type": "code",
   "execution_count": 31,
   "metadata": {},
   "outputs": [
    {
     "name": "stdout",
     "output_type": "stream",
     "text": [
      " JP HOSA Dues paid in August - 35.00     $17.50\n",
      "\n",
      " CCP Cheer Shoes paid in August - 80.00  $40.00\n",
      "\n",
      " CCP Frequency paid in August - 215.00   $107.50\n",
      "\n",
      " SUBTOTAL        $165.00\n",
      "\n",
      " Susan Paid for Claires contacts $220 the 70/30 rule means Michael owes Susan $145.2 of that amount       Michael Paid Jacks contacts and glasses $363 (30% that is due from Susan is $119.79) - the difference between what were Claires costs and Jacks means that Michael owes Susan $25.41\n",
      "\n",
      " AMOUNT TO PAID TO SUSAN $355.41         11/6/15 \n",
      "\n",
      " JP HOSA Dues paid in August - 35.00     $17.50\n",
      "\n",
      " CCP Cheer Shoes paid in August - 80.00  $40.00\n",
      "\n",
      " CCP Frequency paid in August - 215.00   $107.50\n",
      "\n",
      " SUBTOTAL        $165.00\n",
      "\n",
      " Susan Paid for Claires contacts $220 the 70/30 rule means Michael owes Susan $145.2 of that amount       Michael Paid Jacks contacts and glasses $363 (30% that is due from Susan is $119.79) - the difference between what were Claires costs and Jacks means that Michael owes Susan $25.41\n",
      "\n",
      " AMOUNT TO PAID TO SUSAN $355.41         11/6/15 \n",
      "\n",
      " JP HOSA Dues paid in August - 35.00     $17.50\n",
      "\n",
      " CCP Cheer Shoes paid in August - 80.00  $40.00\n",
      "\n",
      " CCP Frequency paid in August - 215.00   $107.50\n",
      "\n",
      " SUBTOTAL        $165.00\n",
      "\n",
      " Susan Paid for Claires contacts $220 the 70/30 rule means Michael owes Susan $145.2 of that amount       Michael Paid Jacks contacts and glasses $363 (30% that is due from Susan is $119.79) - the difference between what were Claires costs and Jacks means that Michael owes Susan $25.41\n",
      "\n",
      " AMOUNT TO PAID TO SUSAN $355.41         11/6/15 \n",
      "\n",
      " JP HOSA Dues paid in August - 35.00     $17.50\n",
      "\n",
      " CCP Cheer Shoes paid in August - 80.00  $40.00\n",
      "\n",
      " CCP Frequency paid in August - 215.00   $107.50\n",
      "\n",
      " SUBTOTAL        $165.00\n",
      "\n",
      " Susan Paid for Claires contacts $220 the 70/30 rule means Michael owes Susan $145.2 of that amount       Michael Paid Jacks contacts and glasses $363 (30% that is due from Susan is $119.79) - the difference between what were Claires costs and Jacks means that Michael owes Susan $25.41\n",
      "\n",
      " AMOUNT TO PAID TO SUSAN $355.41         11/6/15 \n",
      "\n",
      " JP HOSA Dues paid in August - 35.00     $17.50\n",
      "\n",
      " CCP Cheer Shoes paid in August - 80.00  $40.00\n",
      "\n",
      " CCP Frequency paid in August - 215.00   $107.50\n",
      "\n",
      " SUBTOTAL        $165.00\n",
      "\n",
      " Susan Paid for Claires contacts $220 the 70/30 rule means Michael owes Susan $145.2 of that amount       Michael Paid Jacks contacts and glasses $363 (30% that is due from Susan is $119.79) - the difference between what were Claires costs and Jacks means that Michael owes Susan $25.41\n",
      "\n",
      " AMOUNT TO PAID TO SUSAN $355.41         11/6/15 \n",
      "\n",
      " JP HOSA Dues paid in August - 35.00     $17.50\n",
      "\n",
      " CCP Cheer Shoes paid in August - 80.00  $40.00\n",
      "\n",
      " CCP Frequency paid in August - 215.00   $107.50\n",
      "\n",
      " SUBTOTAL        $165.00\n",
      "\n",
      " Susan Paid for Claires contacts $220 the 70/30 rule means Michael owes Susan $145.2 of that amount       Michael Paid Jacks contacts and glasses $363 (30% that is due from Susan is $119.79) - the difference between what were Claires costs and Jacks means that Michael owes Susan $25.41\n",
      "\n",
      " AMOUNT TO PAID TO SUSAN $355.41         11/6/15 \n",
      "\n",
      " JP HOSA Dues paid in August - 35.00     $17.50\n",
      "\n",
      " CCP Cheer Shoes paid in August - 80.00  $40.00\n",
      "\n",
      " CCP Frequency paid in August - 215.00   $107.50\n",
      "\n",
      " SUBTOTAL        $165.00\n",
      "\n",
      " Susan Paid for Claires contacts $220 the 70/30 rule means Michael owes Susan $145.2 of that amount       Michael Paid Jacks contacts and glasses $363 (30% that is due from Susan is $119.79) - the difference between what were Claires costs and Jacks means that Michael owes Susan $25.41\n",
      "\n",
      " AMOUNT TO PAID TO SUSAN $355.41         11/6/15 \n",
      "\n",
      " JP HOSA Dues paid in August - 35.00     $17.50\n",
      "\n",
      " CCP Cheer Shoes paid in August - 80.00  $40.00\n",
      "\n",
      " CCP Frequency paid in August - 215.00   $107.50\n",
      "\n",
      " SUBTOTAL        $165.00\n",
      "\n",
      " Susan Paid for Claires contacts $220 the 70/30 rule means Michael owes Susan $145.2 of that amount       Michael Paid Jacks contacts and glasses $363 (30% that is due from Susan is $119.79) - the difference between what were Claires costs and Jacks means that Michael owes Susan $25.41\n",
      "\n",
      " AMOUNT TO PAID TO SUSAN $355.41         11/6/15 \n",
      "\n"
     ]
    }
   ],
   "source": [
    "id1, id2 = read_into_lists (name)"
   ]
  },
  {
   "cell_type": "code",
   "execution_count": 32,
   "metadata": {},
   "outputs": [
    {
     "name": "stdout",
     "output_type": "stream",
     "text": [
      "[49466, 52349, 32639, 15381, 17052, 54008, 74050, 46702, 41480, 47846]\n",
      "[6989, 8552, 2562, 13167, 6289, 15138, 45140, 8034, 22688, 6067]\n"
     ]
    }
   ],
   "source": [
    "print (id1 [:10])\n",
    "print (id2 [:10])"
   ]
  },
  {
   "cell_type": "code",
   "execution_count": null,
   "metadata": {},
   "outputs": [],
   "source": []
  },
  {
   "cell_type": "code",
   "execution_count": null,
   "metadata": {},
   "outputs": [],
   "source": []
  },
  {
   "cell_type": "code",
   "execution_count": null,
   "metadata": {},
   "outputs": [],
   "source": []
  }
 ],
 "metadata": {
  "kernelspec": {
   "display_name": "Python 3",
   "language": "python",
   "name": "python3"
  },
  "language_info": {
   "codemirror_mode": {
    "name": "ipython",
    "version": 3
   },
   "file_extension": ".py",
   "mimetype": "text/x-python",
   "name": "python",
   "nbconvert_exporter": "python",
   "pygments_lexer": "ipython3",
   "version": "3.7.1"
  }
 },
 "nbformat": 4,
 "nbformat_minor": 2
}
