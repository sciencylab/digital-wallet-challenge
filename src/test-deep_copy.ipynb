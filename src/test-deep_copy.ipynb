{
 "cells": [
  {
   "cell_type": "markdown",
   "metadata": {},
   "source": [
    "# Testing the graph data structure's deep copy"
   ]
  },
  {
   "cell_type": "markdown",
   "metadata": {},
   "source": [
    "## Note: stupid python!\n",
    "\n",
    "When making a copy of dictionarys (which my adjacent lists are), python makes a \"shallow copy,\" that is it copies over the pointer and not the values. So, modifying the shallow copy will also modify the original.\n",
    "\n",
    "Normally, you can solve this problem by using the .copy () method, which tells python to make a \"deep copy.\" Unfortunately, in the case of the adjacent lists, python's \"deep copies\" are not deep enough. Even using .copy (), python actually copies over the **pointers** to *sets*, which the the data type of the values in my adjacent lists.\n",
    "\n",
    "For example, for a given adjacent list *adj*, \n",
    "```python\n",
    "adj2 = adj.copy ()\n",
    "```\n",
    "is **STILL** a shallow copy. Modifications to **adj2** are also modifications to **adj** itself!\n",
    "\n",
    "In short, for a deep copy of adjacent lists, use\n",
    "```python\n",
    "adj2 = copy_adj_list (adj)\n",
    "```\n",
    "instead."
   ]
  },
  {
   "cell_type": "code",
   "execution_count": 1,
   "metadata": {},
   "outputs": [],
   "source": [
    "from graph_algorithms import Graph"
   ]
  },
  {
   "cell_type": "code",
   "execution_count": 2,
   "metadata": {},
   "outputs": [],
   "source": [
    "edges = [(1, 13), (1, 3), (1, 4), (2, 12), (4, 13), (3, 5), (5, 6),\n",
    "         (5, 11), (6, 8), (6, 9), (6, 10), (7, 8), (7, 12), (10, 11)]\n",
    "ref = {1: {1, 3, 4, 13}, 13: {1, 4, 13}, 3: {1, 3, 5}, 4: {1, 4, 13},\n",
    "       2: {2, 12}, 12: {2, 12, 7}, 5: {3, 5, 6, 11}, 6: {5, 6, 8, 9, 10},\n",
    "       11: {10, 11, 5}, 8: {8, 6, 7}, 9: {9, 6}, 10: {10, 11, 6}, 7: {8, 12, 7}}"
   ]
  },
  {
   "cell_type": "code",
   "execution_count": 3,
   "metadata": {},
   "outputs": [],
   "source": [
    "a = Graph ({})\n",
    "a.add_edges (edges)\n",
    "#for i in range (1, 1 + len (a.adj.keys ())):\n",
    "#    print ('{:2d}: {}'.format (i, a.adj [i]))"
   ]
  },
  {
   "cell_type": "code",
   "execution_count": 4,
   "metadata": {},
   "outputs": [
    {
     "name": "stdout",
     "output_type": "stream",
     "text": [
      "True\n"
     ]
    }
   ],
   "source": [
    "b = a.copy ()\n",
    "b.add_edge ((14, 1))\n",
    "b.add_edge ((2, 3))\n",
    "print (a.adj == ref)\n",
    "#for i in range (1, 1 + len (b.adj.keys ())):\n",
    "#    print ('{:2d}: {}'.format (i, b.adj [i]))"
   ]
  },
  {
   "cell_type": "code",
   "execution_count": null,
   "metadata": {},
   "outputs": [],
   "source": []
  },
  {
   "cell_type": "code",
   "execution_count": null,
   "metadata": {},
   "outputs": [],
   "source": []
  },
  {
   "cell_type": "code",
   "execution_count": null,
   "metadata": {},
   "outputs": [],
   "source": []
  }
 ],
 "metadata": {
  "kernelspec": {
   "display_name": "Python 3",
   "language": "python",
   "name": "python3"
  },
  "language_info": {
   "codemirror_mode": {
    "name": "ipython",
    "version": 3
   },
   "file_extension": ".py",
   "mimetype": "text/x-python",
   "name": "python",
   "nbconvert_exporter": "python",
   "pygments_lexer": "ipython3",
   "version": "3.7.1"
  }
 },
 "nbformat": 4,
 "nbformat_minor": 2
}
