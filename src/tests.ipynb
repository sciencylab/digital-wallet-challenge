{
 "cells": [
  {
   "cell_type": "code",
   "execution_count": 1,
   "metadata": {},
   "outputs": [],
   "source": [
    "from antifraud import read_adj_dict_from_file, adjacency_dict\n",
    "from graph_algorithms import Graph"
   ]
  },
  {
   "cell_type": "markdown",
   "metadata": {},
   "source": [
    "# Read files"
   ]
  },
  {
   "cell_type": "code",
   "execution_count": 3,
   "metadata": {},
   "outputs": [
    {
     "name": "stdout",
     "output_type": "stream",
     "text": [
      "CPU times: user 9.19 s, sys: 208 ms, total: 9.4 s\n",
      "Wall time: 9.4 s\n"
     ]
    }
   ],
   "source": [
    "%%time\n",
    "\n",
    "batch  = '../paymo_input/batch_payment.txt'\n",
    "stream = '../paymo_input/stream_payment.txt'\n",
    "\n",
    "adj_list   = read_adj_dict_from_file (batch)\n",
    "#adj_stream = read_adj_dict_from_file (stream)"
   ]
  },
  {
   "cell_type": "code",
   "execution_count": 4,
   "metadata": {},
   "outputs": [],
   "source": [
    "batch_graph = Graph (adj_list.copy ())"
   ]
  },
  {
   "cell_type": "markdown",
   "metadata": {},
   "source": [
    "# Dynamic programming\n",
    "### Idea\n",
    "The adjacency list 'adj_list' is that of the graph of 1 degree of separation. Using just this to calculate the distance between 2 arbitrary node turns out to be too computationally expensive (for my taste at least) when dealing with the stream_processing.txt file.\n",
    "\n",
    "So, my current idea is to build adjacency lists of 2, 3, and 4 degrees of separation. That should eliminate a good deal of redundant computations and hopefully the result will be noticeably faster.\n",
    "\n",
    "### Test Problem\n",
    "<img src=\"image/example_graph.jpg\" width=\"50%\">\n",
    "Let the graph G be defined by the following list of edges:\n",
    "$$\n",
    "\\text{edges} (G) =\n",
    "[(1, 13), (1, 3), (1, 4),\n",
    " (2, 12),\n",
    " (4, 13),\n",
    " (3, 5),\n",
    " (5, 6), (5, 11),\n",
    " (6, 8), (6, 9), (6, 10),\n",
    " (7, 8),\n",
    " (10, 11)]\n",
    "$$"
   ]
  },
  {
   "cell_type": "code",
   "execution_count": 2,
   "metadata": {},
   "outputs": [],
   "source": [
    "# exclusive 1st order adjacency list for G (does not include nodes separated by degree zero)\n",
    "adj_1_exclusive = {1 : {3, 4, 13}, 2 : {12}, 3 : {1, 5}, 4 : {1, 13}, 5 : {3, 6, 11}, 6 : {5, 8, 9, 10},\n",
    "7 : {8, 12}, 8 : {6, 7}, 9 : {6}, 10: {6, 11}, 11: {5, 10}, 12: {2, 7}, 13: {1, 4}}\n",
    "\n",
    "# inclusive 1st order adjacency list for G\n",
    "adj_1 = {}\n",
    "for key in adj_1_exclusive.keys ():\n",
    "    adj_1 [key] = {key} | adj_1_exclusive [key]\n",
    "\n",
    "# exclusive 2nd order adjacency list for G\n",
    "adj_2_exclusive = {1 : {5}, 2 : {7}, 3 : {4, 6, 11, 13}, 4 : {3}, 5 : {1, 8, 9, 10}, 6 : {3, 7, 11},\n",
    "7 : {2, 6}, 8 : {5, 9, 10, 12}, 9 : {5, 8, 10}, 10: {5, 8, 9}, 11: {3, 6}, 12: {8}, 13: {3}}\n",
    "\n",
    "# inclusive 2nd order adjacency list for G\n",
    "adj_2 = {}\n",
    "for key in adj_1.keys ():\n",
    "    adj_2 [key] = adj_1 [key] | adj_2_exclusive [key]"
   ]
  },
  {
   "cell_type": "code",
   "execution_count": 3,
   "metadata": {},
   "outputs": [
    {
     "data": {
      "text/plain": [
       "{1: {3, 4, 13}, 13: {1, 4}, 3: {1, 5}, 4: {1, 13}, 2: {12}, 12: {2, 7}, 5: {11, 3, 6}, 6: {8, 9, 10, 5}, 11: {10, 5}, 8: {6, 7}, 9: {6}, 10: {11, 6}, 7: {8, 12}}"
      ]
     },
     "execution_count": 3,
     "metadata": {},
     "output_type": "execute_result"
    }
   ],
   "source": [
    "edges = [(1, 13), (1, 3), (1, 4), (2, 12), (4, 13), (3, 5), (5, 6),\n",
    "         (5, 11), (6, 8), (6, 9), (6, 10), (7, 8), (7, 12), (10, 11)]\n",
    "G = Graph ({})\n",
    "\n",
    "# create graph G from list of edges\n",
    "G.add_edges (edges)\n",
    "\n",
    "G"
   ]
  },
  {
   "cell_type": "code",
   "execution_count": 9,
   "metadata": {},
   "outputs": [],
   "source": [
    "# build 1st order inclusive adjaceny list\n",
    "G.build_adj ()\n",
    "# build higher order inclusive adjaceny list\n",
    "G.build_higher_order_adj_lists ()"
   ]
  },
  {
   "cell_type": "code",
   "execution_count": 10,
   "metadata": {},
   "outputs": [
    {
     "name": "stdout",
     "output_type": "stream",
     "text": [
      "True\n",
      "True\n"
     ]
    }
   ],
   "source": [
    "# compare inclusive adjacency lists or order 1 & 2\n",
    "print (G.adj_1 == adj_1)\n",
    "print (G.adj_2 == adj_2)"
   ]
  },
  {
   "cell_type": "code",
   "execution_count": 11,
   "metadata": {},
   "outputs": [
    {
     "data": {
      "text/plain": [
       "True"
      ]
     },
     "execution_count": 11,
     "metadata": {},
     "output_type": "execute_result"
    }
   ],
   "source": [
    "# Check for self-consistency\n",
    "G.is_self_consistent ()"
   ]
  },
  {
   "cell_type": "markdown",
   "metadata": {},
   "source": [
    "# Tests and examples\n",
    "\n",
    "list of tests and excamples:\n",
    "1. test case for function adjacency_dict\n",
    "2. Confirm algo can handle being given node not in graph\n",
    "3. Check how long it takes to confirm 2 nodes are separated by degree 4 (**67ms**!)\n",
    "4. Check how long it takes to completely traverse the graph given in batch_processing.txt    (**< 200ms!**)"
   ]
  },
  {
   "cell_type": "markdown",
   "metadata": {},
   "source": [
    "### test case for function adjacency_dict\n",
    "```\n",
    "a\n",
    "| \\\n",
    "b--c--d--e\n",
    "```\n",
    "connections: (a, b), (a, c), (b, c), (c, d), (d, e)\n",
    "\n",
    "or, as 2 lists: (a, a, b, c, d) and (b, c, c, d, e)"
   ]
  },
  {
   "cell_type": "code",
   "execution_count": 12,
   "metadata": {},
   "outputs": [],
   "source": [
    "def pass_fail (logic, message = ''):\n",
    "    if logic:\n",
    "        print ('[PASS]: ', end = '')\n",
    "    else:\n",
    "        print ('[FAIL]: ', end = '')\n",
    "    print (message)\n",
    "    "
   ]
  },
  {
   "cell_type": "code",
   "execution_count": 13,
   "metadata": {},
   "outputs": [
    {
     "name": "stdout",
     "output_type": "stream",
     "text": [
      "[PASS]: method distance\n",
      "[PASS]: method degree_list\n",
      "[PASS]: length update after adding new edge\n",
      "[PASS]: graph update after adding new edge\n"
     ]
    }
   ],
   "source": [
    "ex_adj = adjacency_dict (['a', 'a', 'b', 'c', 'd'],\n",
    "                         ['b', 'c', 'c', 'd', 'e'])\n",
    "ex_graph = Graph (ex_adj)\n",
    "\n",
    "pass_fail (ex_graph.distance ('a', 'e') == 3, 'method distance')\n",
    "pass_fail (ex_graph.degree_list ('c') == [{'c'}, {'a', 'b', 'd'}, {'e'}],\n",
    "           'method degree_list')\n",
    "\n",
    "# Add edge w/ new node 'f'\n",
    "ex_graph.add_edge (('f', 'e'))\n",
    "\n",
    "pass_fail (ex_graph.length == 6,\n",
    "           'length update after adding new edge')\n",
    "pass_fail (ex_graph.graph == {'a': {'c', 'b'}, 'b': {'c', 'a'}, 'c': {'d', 'a', 'b'}, 'd': {'c', 'e'}, 'e': {'f', 'd'}, 'f': {'e'}},\n",
    "           'graph update after adding new edge')"
   ]
  },
  {
   "cell_type": "code",
   "execution_count": 14,
   "metadata": {},
   "outputs": [
    {
     "data": {
      "text/plain": [
       "True"
      ]
     },
     "execution_count": 14,
     "metadata": {},
     "output_type": "execute_result"
    }
   ],
   "source": [
    "adjacency_dict (['a', 'a', 'b', 'c', 'd'],\n",
    "                ['b', 'c', 'c', 'd', 'e']) == {'a': {'b', 'c'},\n",
    "                                               'b': {'a', 'c'},\n",
    "                                               'c': {'a', 'b', 'd'},\n",
    "                                               'd': {'c', 'e'},\n",
    "                                               'e': {'d'}}"
   ]
  },
  {
   "cell_type": "markdown",
   "metadata": {},
   "source": [
    "### Confirm algo can handle being given node not in graph"
   ]
  },
  {
   "cell_type": "code",
   "execution_count": 16,
   "metadata": {},
   "outputs": [
    {
     "name": "stdout",
     "output_type": "stream",
     "text": [
      "CPU times: user 16 µs, sys: 0 ns, total: 16 µs\n",
      "Wall time: 23.1 µs\n"
     ]
    },
    {
     "data": {
      "text/plain": [
       "-1"
      ]
     },
     "execution_count": 16,
     "metadata": {},
     "output_type": "execute_result"
    }
   ],
   "source": [
    "%%time\n",
    "\n",
    "batch_graph.distance (49466, 27060006)"
   ]
  },
  {
   "cell_type": "markdown",
   "metadata": {},
   "source": [
    "### Check how long it takes to confirm 2 nodes are separated by degree 4"
   ]
  },
  {
   "cell_type": "code",
   "execution_count": 17,
   "metadata": {},
   "outputs": [
    {
     "name": "stdout",
     "output_type": "stream",
     "text": [
      "CPU times: user 51.4 ms, sys: 4.04 ms, total: 55.4 ms\n",
      "Wall time: 56 ms\n"
     ]
    },
    {
     "data": {
      "text/plain": [
       "4"
      ]
     },
     "execution_count": 17,
     "metadata": {},
     "output_type": "execute_result"
    }
   ],
   "source": [
    "%%time\n",
    "\n",
    "batch_graph.distance (49466, 2706)"
   ]
  },
  {
   "cell_type": "markdown",
   "metadata": {},
   "source": [
    "### Check how long it takes to completely traverse the graph given in batch_processing.txt\n",
    "As well as calculate and print some interesting statistics regarding the number of nodes in the graph separated by a certain degree"
   ]
  },
  {
   "cell_type": "code",
   "execution_count": 18,
   "metadata": {},
   "outputs": [
    {
     "name": "stdout",
     "output_type": "stream",
     "text": [
      "deg:  0, #nodes: 1\n",
      "deg:  1, #nodes: 1\n",
      "deg:  2, #nodes: 37\n",
      "deg:  3, #nodes: 4501\n",
      "deg:  4, #nodes: 42831\n",
      "deg:  5, #nodes: 27365\n",
      "deg:  6, #nodes: 2400\n",
      "deg:  7, #nodes: 208\n",
      "deg:  8, #nodes: 14\n",
      "deg:  9, #nodes: 2\n",
      "\n",
      "\n",
      "CPU times: user 152 ms, sys: 8.02 ms, total: 160 ms\n",
      "Wall time: 161 ms\n"
     ]
    }
   ],
   "source": [
    "%%time\n",
    "# takes <200ms \n",
    "\n",
    "deg = batch_graph.degree_list (49466, upto = -1) # the upto = -1 tells it to traverse entire graph\n",
    "\n",
    "for k in range (len (deg)):\n",
    "    print ('deg: {:2}, #nodes: {}'.format (k, len (deg [k])))\n",
    "print ('\\n')"
   ]
  },
  {
   "cell_type": "code",
   "execution_count": null,
   "metadata": {},
   "outputs": [],
   "source": []
  },
  {
   "cell_type": "code",
   "execution_count": null,
   "metadata": {},
   "outputs": [],
   "source": []
  },
  {
   "cell_type": "code",
   "execution_count": null,
   "metadata": {},
   "outputs": [],
   "source": []
  },
  {
   "cell_type": "code",
   "execution_count": null,
   "metadata": {},
   "outputs": [],
   "source": []
  }
 ],
 "metadata": {
  "kernelspec": {
   "display_name": "Python 3",
   "language": "python",
   "name": "python3"
  },
  "language_info": {
   "codemirror_mode": {
    "name": "ipython",
    "version": 3
   },
   "file_extension": ".py",
   "mimetype": "text/x-python",
   "name": "python",
   "nbconvert_exporter": "python",
   "pygments_lexer": "ipython3",
   "version": "3.7.1"
  }
 },
 "nbformat": 4,
 "nbformat_minor": 2
}
