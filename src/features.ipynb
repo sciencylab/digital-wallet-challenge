{
 "cells": [
  {
   "cell_type": "markdown",
   "metadata": {},
   "source": [
    "# Read files"
   ]
  },
  {
   "cell_type": "code",
   "execution_count": 1,
   "metadata": {
    "scrolled": true
   },
   "outputs": [
    {
     "name": "stdout",
     "output_type": "stream",
     "text": [
      "CPU times: user 13.6 s, sys: 356 ms, total: 13.9 s\n",
      "Wall time: 13.9 s\n"
     ]
    }
   ],
   "source": [
    "%%time\n",
    "\n",
    "from antifraud import read_adj_dict_from_file, read_into_list_of_tuples\n",
    "from graph_algorithms import Graph\n",
    "\n",
    "# set file names\n",
    "batch  = '../paymo_input/batch_payment.txt'\n",
    "stream = '../paymo_input/stream_payment.txt'\n",
    "\n",
    "# Read files\n",
    "# Turn on verboisity to see the lines that did not conform to the csv format (Note: \n",
    "# it's the same 5 or so lines over and over again)\n",
    "batch0 = read_adj_dict_from_file (batch, verbose = False)\n",
    "stream = read_into_list_of_tuples (stream, verbose = False) \n",
    "\n",
    "# attach\n",
    "batch = Graph (batch0)"
   ]
  },
  {
   "cell_type": "code",
   "execution_count": 2,
   "metadata": {},
   "outputs": [
    {
     "name": "stdout",
     "output_type": "stream",
     "text": [
      "1389471\n",
      "True\n",
      "CPU times: user 9.77 s, sys: 91.7 ms, total: 9.86 s\n",
      "Wall time: 9.86 s\n"
     ]
    }
   ],
   "source": [
    "%%time\n",
    "\n",
    "reference = []\n",
    "ans_ref = []\n",
    "\n",
    "graph = batch.copy ()\n",
    "for pair in stream:\n",
    "    if not graph.if_lte_deg1 (pair):\n",
    "        reference.append (pair)\n",
    "        ans_ref.append (0)\n",
    "    else:\n",
    "        ans_ref.append (1)\n",
    "    graph.add_edge (pair)\n",
    "print (len (reference))\n",
    "print (graph.is_self_consistent ())"
   ]
  },
  {
   "cell_type": "markdown",
   "metadata": {},
   "source": [
    "# Features"
   ]
  },
  {
   "cell_type": "markdown",
   "metadata": {},
   "source": []
  },
  {
   "cell_type": "code",
   "execution_count": 3,
   "metadata": {},
   "outputs": [],
   "source": [
    "end = '\\n'\n",
    "msg_true = \"verified\" + end\n",
    "msg_false = \"unverified\" + end"
   ]
  },
  {
   "cell_type": "code",
   "execution_count": 4,
   "metadata": {},
   "outputs": [],
   "source": [
    "# start w/ fresh copy\n",
    "features = [batch.copy (), batch.copy (), batch.copy ()]\n",
    "# name of output file\n",
    "output_files = ['output1.txt', 'output2.txt', 'output3.txt']\n",
    "# save the new transactions in list for future comparisons\n",
    "new_pairs = [[], [], []]\n",
    "# save the answers in list for comparison\n",
    "answers = [[], [], []]"
   ]
  },
  {
   "cell_type": "markdown",
   "metadata": {},
   "source": [
    "## Feature 1\n",
    "When anyone makes a payment to another user, they'll be notified if they've never made a transaction with that user before.\n",
    "\n",
    "\"unverified: You've never had a transaction with this user before. Are you sure you would like to proceed with this payment?\""
   ]
  },
  {
   "cell_type": "code",
   "execution_count": 5,
   "metadata": {},
   "outputs": [
    {
     "name": "stdout",
     "output_type": "stream",
     "text": [
      "number of new nodes: 3252\n",
      "\n",
      "CPU times: user 6.74 s, sys: 116 ms, total: 6.85 s\n",
      "Wall time: 6.87 s\n"
     ]
    }
   ],
   "source": [
    "%%time\n",
    "n = 0\n",
    "out = open (output_files [0], 'w')\n",
    "\n",
    "\n",
    "for pair in stream:\n",
    "    # First, check if prior transaction exists. If so, no need to add edge to graph\n",
    "\n",
    "    if features [n].degree_lte (pair, degree = 1): # transaction existed\n",
    "        answers [n].append (1)\n",
    "        out.write (msg_true)\n",
    "    else:\n",
    "        answers [n].append (0)\n",
    "        out.write (msg_false)\n",
    "\n",
    "        # add edge to list new_pair [1] for later comparison\n",
    "        new_pairs [n].append (pair)\n",
    "        \n",
    "        # add edge after determining degree of separation\n",
    "        features [n].add_edge (pair)\n",
    "\n",
    "out.close ()\n",
    "        \n",
    "print ('number of new nodes: {}\\n'.format (features [n].num_nodes - batch.num_nodes))"
   ]
  },
  {
   "cell_type": "code",
   "execution_count": 17,
   "metadata": {},
   "outputs": [
    {
     "data": {
      "text/plain": [
       "(True, True)"
      ]
     },
     "execution_count": 17,
     "metadata": {},
     "output_type": "execute_result"
    }
   ],
   "source": [
    "n = 0\n",
    "features [n].is_self_consistent (), len (new_pairs [n]) == 1389471"
   ]
  },
  {
   "cell_type": "markdown",
   "metadata": {},
   "source": [
    "## Streaming version"
   ]
  },
  {
   "cell_type": "markdown",
   "metadata": {},
   "source": [
    "## Feature 2\n",
    "\n",
    "The PayMo team is concerned that these warnings could be annoying because there are many users who haven't had transactions, but are still in similar social networks. To account for this, PayMo would like you to also implement this feature. When users make a payment, they'll be notified when the other user is outside of their \"2nd-degree network\".\n",
    "\n",
    "\"unverified: This user is not a friend or a \"friend of a friend\". Are you sure you would like to proceed with this payment?\""
   ]
  },
  {
   "cell_type": "code",
   "execution_count": 7,
   "metadata": {},
   "outputs": [
    {
     "name": "stdout",
     "output_type": "stream",
     "text": [
      "CPU times: user 14.4 s, sys: 224 ms, total: 14.6 s\n",
      "Wall time: 14.6 s\n"
     ]
    }
   ],
   "source": [
    "%%time\n",
    "\n",
    "graph = batch.copy ()\n",
    "\n",
    "verbose = False\n",
    "file = open ('../paymo_input/stream_payment.txt', 'r')\n",
    "output = open ('tmp.file', 'w')\n",
    "np = []\n",
    "\n",
    "line = file.readline () #header\n",
    "\n",
    "for line in file:\n",
    "    \n",
    "    try:\n",
    "        # get the pair of IDs from line\n",
    "        pair = tuple (map (lambda x: int (x), line.split (',') [1:3]))\n",
    "        \n",
    "        \n",
    "        if graph.degree_lte (pair, degree = 1):\n",
    "            output.write (msg_true)\n",
    "        else:\n",
    "            # determine if <= 2 degrees of separation\n",
    "            lte = graph.degree_lte (pair, degree = 2)\n",
    "            output.write ('verified' if lte else 'unverified')\n",
    "            np.append (pair) # add edge to list new_pair [1] for later comparison\n",
    "            \n",
    "            # add edge after determining degree of separation\n",
    "            graph.add_edge (pair)\n",
    "            \n",
    "    except:\n",
    "        if verbose: print ('Error: not a csv formatted line: ', line)\n",
    "\n",
    "file.close ()\n",
    "output.close ()"
   ]
  },
  {
   "cell_type": "code",
   "execution_count": 18,
   "metadata": {},
   "outputs": [
    {
     "data": {
      "text/plain": [
       "(True, True, True)"
      ]
     },
     "execution_count": 18,
     "metadata": {},
     "output_type": "execute_result"
    }
   ],
   "source": [
    "graph.is_self_consistent (), len (np) == 1389471, np == reference"
   ]
  },
  {
   "cell_type": "code",
   "execution_count": 9,
   "metadata": {},
   "outputs": [
    {
     "name": "stdout",
     "output_type": "stream",
     "text": [
      "number of new nodes: 3252\n",
      "\n",
      "CPU times: user 8.09 s, sys: 72.1 ms, total: 8.17 s\n",
      "Wall time: 8.18 s\n"
     ]
    }
   ],
   "source": [
    "%%time\n",
    "n = 1\n",
    "\n",
    "with open (output_files [n], 'w') as output:\n",
    "    for pair in stream:\n",
    "        \n",
    "        # check if transaction had NOT occured before\n",
    "        if not features [n].degree_lte (pair, degree = 1):\n",
    "            # add edge to list new_pair [1]\n",
    "            new_pairs [n].append (pair)\n",
    "            # add edge after determining degree of separation\n",
    "            features [n].add_edge (pair)\n",
    "        \n",
    "        # determine if <= 2 degrees of separation\n",
    "        if features [n].degree_lte (pair, degree = 2):\n",
    "            output.write (msg_true)\n",
    "        else:\n",
    "            output.write (msg_false)\n",
    "            \n",
    "            \n",
    "            \n",
    "print ('number of new nodes: {}\\n'.format (features [n].num_nodes - batch.num_nodes))"
   ]
  },
  {
   "cell_type": "code",
   "execution_count": 20,
   "metadata": {},
   "outputs": [
    {
     "data": {
      "text/plain": [
       "(True, True, True)"
      ]
     },
     "execution_count": 20,
     "metadata": {},
     "output_type": "execute_result"
    }
   ],
   "source": [
    "n = 1\n",
    "features [n].is_self_consistent (), len (new_pairs [n]) == 1389471, new_pairs [n] == reference"
   ]
  },
  {
   "cell_type": "code",
   "execution_count": 11,
   "metadata": {},
   "outputs": [
    {
     "name": "stdout",
     "output_type": "stream",
     "text": [
      "number of new nodes: 3252\n",
      "\n",
      "CPU times: user 10 s, sys: 40 ms, total: 10.1 s\n",
      "Wall time: 10.1 s\n"
     ]
    }
   ],
   "source": [
    "%%time\n",
    "n = 1\n",
    "\n",
    "features [n] = batch.copy ()\n",
    "new_pairs [n] = []\n",
    "\n",
    "with open (output_files [n], 'w') as output:\n",
    "    for pair in stream:\n",
    "        # First, check if prior transaction exists. If so, no need to add edge to graph\n",
    "        if features [n].degree_lte (pair, degree = 1):\n",
    "            output.write (msg_true)\n",
    "        else:\n",
    "            # determine if <= 2 degrees of separation\n",
    "            lte = features [n].degree_lte (pair, degree = 2)\n",
    "            output.write (msg_true if lte else msg_false)\n",
    "\n",
    "            # add edge to list new_pair [1]\n",
    "            new_pairs [n].append (pair)\n",
    "            \n",
    "            # add edge after determining degree of separation\n",
    "            features [n].add_edge (pair)\n",
    "\n",
    "            \n",
    "print ('number of new nodes: {}\\n'.format (features [n].num_nodes - batch.num_nodes))"
   ]
  },
  {
   "cell_type": "code",
   "execution_count": 12,
   "metadata": {},
   "outputs": [
    {
     "data": {
      "text/plain": [
       "(True, 1389471, True)"
      ]
     },
     "execution_count": 12,
     "metadata": {},
     "output_type": "execute_result"
    }
   ],
   "source": [
    "n = 1\n",
    "features [n].is_self_consistent (), len (new_pairs [n]), new_pairs [n] == reference"
   ]
  },
  {
   "cell_type": "markdown",
   "metadata": {},
   "source": [
    "## Feature 3\n",
    "\n",
    "More generally, PayMo would like to extend this feature to larger social networks. Implement a feature to warn users only when they're outside the \"4th degree friends network.\""
   ]
  },
  {
   "cell_type": "code",
   "execution_count": 26,
   "metadata": {},
   "outputs": [],
   "source": [
    "n = 2\n",
    "features [n] = batch.copy ()\n",
    "new_pairs [n] = []"
   ]
  },
  {
   "cell_type": "code",
   "execution_count": 13,
   "metadata": {},
   "outputs": [
    {
     "name": "stdout",
     "output_type": "stream",
     "text": [
      "number of new nodes: 3252\n",
      "\n",
      "CPU times: user 6min 36s, sys: 240 ms, total: 6min 36s\n",
      "Wall time: 6min 36s\n"
     ]
    }
   ],
   "source": [
    "%%time\n",
    "n = 2\n",
    "\n",
    "features [n] = batch.copy ()\n",
    "new_pairs [n] = []\n",
    "\n",
    "with open (output_files [n], 'w') as output:\n",
    "    for pair in stream:\n",
    "        # First, check if prior transaction exists. If so, no need to add edge to graph\n",
    "        if features [n].degree_lte (pair, degree = 1):\n",
    "            output.write (msg_true)\n",
    "        else:\n",
    "            # determine if <= 4 degrees of separation\n",
    "            lte = features [n].degree_lte (pair, degree = 4)\n",
    "            output.write (msg_true if lte else msg_false)\n",
    "\n",
    "            # add edge to list new_pair [1]\n",
    "            new_pairs [n].append (pair)\n",
    "            \n",
    "            # add edge after determining degree of separation\n",
    "            features [n].add_edge (pair)\n",
    "\n",
    "            \n",
    "print ('number of new nodes: {}\\n'.format (features [n].num_nodes - batch.num_nodes))"
   ]
  },
  {
   "cell_type": "code",
   "execution_count": 21,
   "metadata": {},
   "outputs": [
    {
     "data": {
      "text/plain": [
       "(True, True, True)"
      ]
     },
     "execution_count": 21,
     "metadata": {},
     "output_type": "execute_result"
    }
   ],
   "source": [
    "features [n].is_self_consistent (), len (new_pairs [n]) == 1389471, new_pairs [n] == reference"
   ]
  },
  {
   "cell_type": "markdown",
   "metadata": {},
   "source": [
    "# Check if the graphs are the same"
   ]
  },
  {
   "cell_type": "code",
   "execution_count": 15,
   "metadata": {},
   "outputs": [
    {
     "data": {
      "text/plain": [
       "True"
      ]
     },
     "execution_count": 15,
     "metadata": {},
     "output_type": "execute_result"
    }
   ],
   "source": [
    "features [0].is_equal_to (features [1])"
   ]
  },
  {
   "cell_type": "code",
   "execution_count": 16,
   "metadata": {},
   "outputs": [
    {
     "data": {
      "text/plain": [
       "True"
      ]
     },
     "execution_count": 16,
     "metadata": {},
     "output_type": "execute_result"
    }
   ],
   "source": [
    "features [2].is_equal_to (features [1])"
   ]
  }
 ],
 "metadata": {
  "kernelspec": {
   "display_name": "Python 3",
   "language": "python",
   "name": "python3"
  },
  "language_info": {
   "codemirror_mode": {
    "name": "ipython",
    "version": 3
   },
   "file_extension": ".py",
   "mimetype": "text/x-python",
   "name": "python",
   "nbconvert_exporter": "python",
   "pygments_lexer": "ipython3",
   "version": "3.7.1"
  }
 },
 "nbformat": 4,
 "nbformat_minor": 2
}
