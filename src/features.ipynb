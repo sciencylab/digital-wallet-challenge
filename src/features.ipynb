{
 "cells": [
  {
   "cell_type": "markdown",
   "metadata": {},
   "source": [
    "# Read files"
   ]
  },
  {
   "cell_type": "code",
   "execution_count": 1,
   "metadata": {
    "scrolled": true
   },
   "outputs": [
    {
     "name": "stdout",
     "output_type": "stream",
     "text": [
      "CPU times: user 13.4 s, sys: 366 ms, total: 13.7 s\n",
      "Wall time: 13.8 s\n"
     ]
    }
   ],
   "source": [
    "%%time\n",
    "\n",
    "from antifraud import read_adj_dict_from_file, read_into_list_of_tuples\n",
    "from graph_algorithms import Graph\n",
    "\n",
    "# set file names\n",
    "batch  = '../paymo_input/batch_payment.txt'\n",
    "stream = '../paymo_input/stream_payment.txt'\n",
    "\n",
    "# Read files\n",
    "# Turn on verboisity to see the lines that did not conform to the csv format (Note: \n",
    "# it's the same 5 or so lines over and over again)\n",
    "batch0 = read_adj_dict_from_file (batch, verbose = False)\n",
    "stream = read_into_list_of_tuples (stream, verbose = False) \n",
    "\n",
    "# attach\n",
    "batch = Graph (batch0.copy ())"
   ]
  },
  {
   "cell_type": "code",
   "execution_count": 5,
   "metadata": {},
   "outputs": [],
   "source": [
    "from graph_algorithms import next_order_adj_list"
   ]
  },
  {
   "cell_type": "code",
   "execution_count": 6,
   "metadata": {},
   "outputs": [
    {
     "name": "stdout",
     "output_type": "stream",
     "text": [
      "CPU times: user 21.8 s, sys: 1.12 s, total: 22.9 s\n",
      "Wall time: 22.9 s\n"
     ]
    }
   ],
   "source": [
    "%%time\n",
    "\n",
    "batch.adj_2 = next_order_adj_list (batch.adj_1)"
   ]
  },
  {
   "cell_type": "code",
   "execution_count": 7,
   "metadata": {},
   "outputs": [
    {
     "name": "stdout",
     "output_type": "stream",
     "text": [
      "CPU times: user 47.4 s, sys: 4.1 ms, total: 47.4 s\n",
      "Wall time: 47.5 s\n"
     ]
    },
    {
     "data": {
      "text/plain": [
       "True"
      ]
     },
     "execution_count": 7,
     "metadata": {},
     "output_type": "execute_result"
    }
   ],
   "source": [
    "%%time\n",
    "batch.is_self_consistent ()"
   ]
  },
  {
   "cell_type": "code",
   "execution_count": null,
   "metadata": {},
   "outputs": [],
   "source": [
    "%%time\n",
    "batch.adj_3 = next_order_adj_list (batch.adj_2)"
   ]
  },
  {
   "cell_type": "code",
   "execution_count": null,
   "metadata": {},
   "outputs": [],
   "source": [
    "%%time\n",
    "batch.is_self_consistent ()"
   ]
  },
  {
   "cell_type": "code",
   "execution_count": 2,
   "metadata": {},
   "outputs": [
    {
     "data": {
      "text/plain": [
       "False"
      ]
     },
     "execution_count": 2,
     "metadata": {},
     "output_type": "execute_result"
    }
   ],
   "source": [
    "feature = batch.copy ()\n",
    "feature is batch"
   ]
  },
  {
   "cell_type": "code",
   "execution_count": 4,
   "metadata": {},
   "outputs": [
    {
     "data": {
      "text/plain": [
       "True"
      ]
     },
     "execution_count": 4,
     "metadata": {},
     "output_type": "execute_result"
    }
   ],
   "source": [
    "feature.is_self_consistent ()"
   ]
  },
  {
   "cell_type": "markdown",
   "metadata": {},
   "source": [
    "# Features"
   ]
  },
  {
   "cell_type": "code",
   "execution_count": null,
   "metadata": {
    "scrolled": true
   },
   "outputs": [],
   "source": [
    "for k in range (10):\n",
    "    print (stream [k], 'distance: ', batch.distance (*stream [k], 4))"
   ]
  },
  {
   "cell_type": "code",
   "execution_count": null,
   "metadata": {},
   "outputs": [],
   "source": [
    "%%time\n",
    "dist = [-1 for i in range (len (stream))]\n",
    "\n",
    "for k in range (len (stream)):\n",
    "    dist [k] = batch.distance (*stream [k], 4)"
   ]
  },
  {
   "cell_type": "code",
   "execution_count": null,
   "metadata": {},
   "outputs": [],
   "source": [
    "def msg_if_ltn (graph, edge, n, message, add_edge = False):\n",
    "    \"\"\"\n",
    "    \n",
    "    \"\"\"\n",
    "    # check if the edge = (a, b) \n",
    "    ltn = graph.distance_lt_n (*edge, n)\n",
    "    if add_edge and not ltn:\n",
    "        graph.add_edge (edge)\n",
    "    return message [0] if ltn else message [1]"
   ]
  },
  {
   "cell_type": "markdown",
   "metadata": {},
   "source": [
    "## Feature 1\n",
    "When anyone makes a payment to another user, they'll be notified if they've never made a transaction with that user before.\n",
    "\n",
    "\"unverified: You've never had a transaction with this user before. Are you sure you would like to proceed with this payment?\""
   ]
  },
  {
   "cell_type": "code",
   "execution_count": null,
   "metadata": {},
   "outputs": [],
   "source": [
    "%%time\n",
    "\n",
    "feature = Graph (batch0.copy ())\n",
    "\n",
    "msg_true = \"verified\"\n",
    "msg_false = \"unverified: You've never had a transaction with this user before. Are you sure you would like to proceed with this payment?\"\n",
    "end = '\\n'\n",
    "message = [msg_true + end,\n",
    "           msg_false + end]\n",
    "output_file = 'output1.txt'\n",
    "n = 1\n",
    "\n",
    "with open (output_file, 'w') as output:\n",
    "    for edge in stream:\n",
    "        output.write (msg_if_ltn (feature, edge, n, message, add_edge = True))\n",
    "print ('number of new nodes: {}\\n'.format (feature.length - batch.length))"
   ]
  },
  {
   "cell_type": "code",
   "execution_count": null,
   "metadata": {},
   "outputs": [],
   "source": [
    "feature.length"
   ]
  },
  {
   "cell_type": "markdown",
   "metadata": {},
   "source": [
    "## Feature 2\n",
    "\n",
    "The PayMo team is concerned that these warnings could be annoying because there are many users who haven't had transactions, but are still in similar social networks. To account for this, PayMo would like you to also implement this feature. When users make a payment, they'll be notified when the other user is outside of their \"2nd-degree network\".\n",
    "\n",
    "\"unverified: This user is not a friend or a \"friend of a friend\". Are you sure you would like to proceed with this payment?\""
   ]
  },
  {
   "cell_type": "code",
   "execution_count": null,
   "metadata": {},
   "outputs": [],
   "source": [
    "feature = Graph (batch0)\n",
    "feature.length"
   ]
  },
  {
   "cell_type": "code",
   "execution_count": null,
   "metadata": {},
   "outputs": [],
   "source": [
    "%%time\n",
    "\n",
    "output_file = 'output2.txt'\n",
    "n = 2\n",
    "\n",
    "msg_true = \"verified\"\n",
    "msg_false = 'unverified: This user is not a friend or a \"friend of a friend\". Are you sure you would like to proceed with this payment?'\n",
    "end = '\\n'\n",
    "message = [msg_true + end,\n",
    "           msg_false + end]\n",
    "\n",
    "\n",
    "feature = Graph (batch0.copy ())\n",
    "\n",
    "with open (output_file, 'w') as output:\n",
    "    for edge in stream:\n",
    "        output.write (msg_if_ltn (feature, edge, n, message, add_edge = True))\n",
    "#        if feature.distance_lt_n (*edge, n):\n",
    "#            output.write (msg_true + end)\n",
    "#        else:\n",
    "#            output.write (msg_false + end)\n",
    "#            feature.add_edge (edge)\n",
    "print ('number of new nodes: {}\\n'.format (feature.length - batch.length))"
   ]
  },
  {
   "cell_type": "code",
   "execution_count": null,
   "metadata": {},
   "outputs": [],
   "source": [
    "feature.distance (42402, 42402)"
   ]
  },
  {
   "cell_type": "code",
   "execution_count": null,
   "metadata": {},
   "outputs": [],
   "source": [
    "feature.length"
   ]
  },
  {
   "cell_type": "markdown",
   "metadata": {},
   "source": [
    "## Feature 3\n",
    "\n",
    "More generally, PayMo would like to extend this feature to larger social networks. Implement a feature to warn users only when they're outside the \"4th degree friends network.\""
   ]
  },
  {
   "cell_type": "code",
   "execution_count": null,
   "metadata": {},
   "outputs": [],
   "source": [
    "%%time\n",
    "msg_true = \"verified\"\n",
    "msg_false = 'unverified: This user is not a friend or a \"friend of a friend\". Are you sure you would like to proceed with this payment?'\n",
    "output_file = 'output3.txt'\n",
    "n = 4\n",
    "\n",
    "start_length = feature.length\n",
    "with open (output_file, 'w') as output:\n",
    "    for edge in stream:\n",
    "        for edge in stream:\n",
    "        if feature.distance_lt_n (*edge, n):\n",
    "            output.write (msg_true)\n",
    "        else:\n",
    "            output.write (msg_false)\n",
    "            feature.add_edge (edge)\n",
    "            \n",
    "print ('number of new nodes: {}\\n'.format (feature.length - start_length))"
   ]
  },
  {
   "cell_type": "code",
   "execution_count": null,
   "metadata": {},
   "outputs": [],
   "source": []
  },
  {
   "cell_type": "code",
   "execution_count": null,
   "metadata": {},
   "outputs": [],
   "source": []
  }
 ],
 "metadata": {
  "kernelspec": {
   "display_name": "Python 3",
   "language": "python",
   "name": "python3"
  },
  "language_info": {
   "codemirror_mode": {
    "name": "ipython",
    "version": 3
   },
   "file_extension": ".py",
   "mimetype": "text/x-python",
   "name": "python",
   "nbconvert_exporter": "python",
   "pygments_lexer": "ipython3",
   "version": "3.7.1"
  }
 },
 "nbformat": 4,
 "nbformat_minor": 2
}
