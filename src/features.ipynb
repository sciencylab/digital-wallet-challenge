{
 "cells": [
  {
   "cell_type": "markdown",
   "metadata": {},
   "source": [
    "# Read files"
   ]
  },
  {
   "cell_type": "code",
   "execution_count": 1,
   "metadata": {
    "scrolled": true
   },
   "outputs": [
    {
     "name": "stdout",
     "output_type": "stream",
     "text": [
      "CPU times: user 33.5 s, sys: 1.58 s, total: 35.1 s\n",
      "Wall time: 35.7 s\n"
     ]
    }
   ],
   "source": [
    "%%time\n",
    "\n",
    "from antifraud import read_adj_dict_from_file, read_into_list_of_tuples\n",
    "from graph_algorithms import Graph\n",
    "\n",
    "# set file names\n",
    "batch  = '../paymo_input/batch_payment.txt'\n",
    "stream = '../paymo_input/stream_payment.txt'\n",
    "\n",
    "# Read files\n",
    "# Turn on verboisity to see the lines that did not conform to the csv format (Note: \n",
    "# it's the same 5 or so lines over and over again)\n",
    "batch0 = read_adj_dict_from_file (batch, verbose = False)\n",
    "stream = read_into_list_of_tuples (stream, verbose = False) \n",
    "\n",
    "# attach\n",
    "batch = Graph (batch0)"
   ]
  },
  {
   "cell_type": "markdown",
   "metadata": {},
   "source": [
    "# Features"
   ]
  },
  {
   "cell_type": "code",
   "execution_count": 2,
   "metadata": {},
   "outputs": [],
   "source": [
    "end = '\\n'\n",
    "msg_true = \"verified\" + end\n",
    "msg_false = \"unverified\" + end\n",
    "message = [msg_true,\n",
    "           msg_false]\n",
    "\n",
    "# feature 1\n",
    "# msg_false = \"unverified: You've never had a transaction with this user before. Are you sure you would like to proceed with this payment?\"\n",
    "# feature 2\n",
    "# msg_false = 'unverified: This user is not a friend or a \"friend of a friend\". Are you sure you would like to proceed with this payment?'\n",
    "# feature 3\n",
    "# msg_false = 'unverified: This user is not a friend or a \"friend of a friend\". Are you sure you would like to proceed with this payment?'"
   ]
  },
  {
   "cell_type": "markdown",
   "metadata": {},
   "source": [
    "## Feature 1\n",
    "When anyone makes a payment to another user, they'll be notified if they've never made a transaction with that user before.\n",
    "\n",
    "\"unverified: You've never had a transaction with this user before. Are you sure you would like to proceed with this payment?\""
   ]
  },
  {
   "cell_type": "code",
   "execution_count": null,
   "metadata": {},
   "outputs": [],
   "source": [
    "%%time\n",
    "\n",
    "feature = batch.copy ()\n",
    "\n",
    "output_file = 'output1.txt'\n",
    "\n",
    "with open (output_file, 'w') as output:\n",
    "    for pair in stream:\n",
    "        lte = feature.if_lte_deg1 (pair)\n",
    "        if not lte:\n",
    "            feature.add_edge (pair)\n",
    "        output.write (message [0] if lte else message [1])\n",
    "print ('number of new nodes: {}\\n'.format (feature.num_nodes - batch.num_nodes))"
   ]
  },
  {
   "cell_type": "code",
   "execution_count": 7,
   "metadata": {},
   "outputs": [
    {
     "data": {
      "text/plain": [
       "78032"
      ]
     },
     "execution_count": 7,
     "metadata": {},
     "output_type": "execute_result"
    }
   ],
   "source": [
    "feature.num_nodes, batch.num_nodes"
   ]
  },
  {
   "cell_type": "markdown",
   "metadata": {},
   "source": [
    "## Feature 2\n",
    "\n",
    "The PayMo team is concerned that these warnings could be annoying because there are many users who haven't had transactions, but are still in similar social networks. To account for this, PayMo would like you to also implement this feature. When users make a payment, they'll be notified when the other user is outside of their \"2nd-degree network\".\n",
    "\n",
    "\"unverified: This user is not a friend or a \"friend of a friend\". Are you sure you would like to proceed with this payment?\""
   ]
  },
  {
   "cell_type": "code",
   "execution_count": null,
   "metadata": {},
   "outputs": [],
   "source": [
    "%%time\n",
    "\n",
    "output_file = 'output2.txt'\n",
    "n = 2\n",
    "\n",
    "feature = batch.copy ()\n",
    "\n",
    "with open (output_file, 'w') as output:\n",
    "    for edge in stream:\n",
    "        output.write (msg_if_ltn (feature, edge, n, message, add_edge = True))\n",
    "print ('number of new nodes: {}\\n'.format (feature.num_nodes - batch.num_nodes))"
   ]
  },
  {
   "cell_type": "markdown",
   "metadata": {},
   "source": [
    "## Feature 3\n",
    "\n",
    "More generally, PayMo would like to extend this feature to larger social networks. Implement a feature to warn users only when they're outside the \"4th degree friends network.\""
   ]
  },
  {
   "cell_type": "code",
   "execution_count": null,
   "metadata": {},
   "outputs": [],
   "source": [
    "%%time\n",
    "msg_true = \"verified\"\n",
    "output_file = 'output3.txt'\n",
    "n = 4\n",
    "\n",
    "start_length = feature.length\n",
    "with open (output_file, 'w') as output:\n",
    "    for edge in stream:\n",
    "        for edge in stream:\n",
    "        if feature.distance_lt_n (*edge, n):\n",
    "            output.write (msg_true)\n",
    "        else:\n",
    "            output.write (msg_false)\n",
    "            feature.add_edge (edge)\n",
    "            \n",
    "print ('number of new nodes: {}\\n'.format (feature.length - start_length))"
   ]
  },
  {
   "cell_type": "code",
   "execution_count": null,
   "metadata": {},
   "outputs": [],
   "source": []
  },
  {
   "cell_type": "code",
   "execution_count": null,
   "metadata": {},
   "outputs": [],
   "source": []
  }
 ],
 "metadata": {
  "kernelspec": {
   "display_name": "Python 3",
   "language": "python",
   "name": "python3"
  },
  "language_info": {
   "codemirror_mode": {
    "name": "ipython",
    "version": 3
   },
   "file_extension": ".py",
   "mimetype": "text/x-python",
   "name": "python",
   "nbconvert_exporter": "python",
   "pygments_lexer": "ipython3",
   "version": "3.7.1"
  }
 },
 "nbformat": 4,
 "nbformat_minor": 2
}
