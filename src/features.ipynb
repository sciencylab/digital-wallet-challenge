{
 "cells": [
  {
   "cell_type": "markdown",
   "metadata": {},
   "source": [
    "# Read files"
   ]
  },
  {
   "cell_type": "code",
   "execution_count": 1,
   "metadata": {
    "scrolled": true
   },
   "outputs": [
    {
     "name": "stdout",
     "output_type": "stream",
     "text": [
      "CPU times: user 13.5 s, sys: 347 ms, total: 13.8 s\n",
      "Wall time: 13.8 s\n"
     ]
    }
   ],
   "source": [
    "%%time\n",
    "\n",
    "from antifraud import read_adj_dict_from_file, read_into_list_of_tuples\n",
    "from graph_algorithms import Graph\n",
    "\n",
    "# set file names\n",
    "batch  = '../paymo_input/batch_payment.txt'\n",
    "stream = '../paymo_input/stream_payment.txt'\n",
    "\n",
    "# Read files\n",
    "# Turn on verboisity to see the lines that did not conform to the csv format (Note: \n",
    "# it's the same 5 or so lines over and over again)\n",
    "batch0 = read_adj_dict_from_file (batch, verbose = False)\n",
    "stream = read_into_list_of_tuples (stream, verbose = False) \n",
    "\n",
    "# attach\n",
    "batch = Graph (batch0)"
   ]
  },
  {
   "cell_type": "code",
   "execution_count": 2,
   "metadata": {},
   "outputs": [],
   "source": [
    "import time"
   ]
  },
  {
   "cell_type": "code",
   "execution_count": 3,
   "metadata": {},
   "outputs": [],
   "source": [
    "start = time.time ()"
   ]
  },
  {
   "cell_type": "code",
   "execution_count": 5,
   "metadata": {},
   "outputs": [],
   "source": [
    "adj = batch0.copy ()"
   ]
  },
  {
   "cell_type": "code",
   "execution_count": 6,
   "metadata": {},
   "outputs": [
    {
     "name": "stdout",
     "output_type": "stream",
     "text": [
      "CPU times: user 17.4 s, sys: 1.06 s, total: 18.4 s\n",
      "Wall time: 18.4 s\n"
     ]
    }
   ],
   "source": [
    "%%time\n",
    "# building degree 2 adjacent list\n",
    "adj2 = {}\n",
    "for key in adj.keys ():\n",
    "    tmp = set ()\n",
    "    for node in adj [key]:\n",
    "        tmp.update (adj [node])\n",
    "    tmp.discard (key)\n",
    "    tmp.difference_update (adj [key])\n",
    "    adj2 [key] = tmp"
   ]
  },
  {
   "cell_type": "code",
   "execution_count": 7,
   "metadata": {},
   "outputs": [],
   "source": [
    "# For a random node, check number of other nodes separated by 2 degrees\n",
    "import numpy.random as random"
   ]
  },
  {
   "cell_type": "code",
   "execution_count": 13,
   "metadata": {},
   "outputs": [],
   "source": [
    "num_nodes = len (adj.keys ())\n",
    "graph_keys = [0 for i in range (num_nodes)]\n",
    "k = 0\n",
    "for key in adj.keys ():\n",
    "    graph_keys [k] = key\n",
    "    k += 1"
   ]
  },
  {
   "cell_type": "code",
   "execution_count": 30,
   "metadata": {},
   "outputs": [],
   "source": [
    "\n",
    "\n",
    "num_deg2 = [0 for i in range (num_nodes)]\n",
    "\n",
    "for key in adj2.keys ():\n",
    "    num_deg2 [len (adj2 [key])] += 1\n"
   ]
  },
  {
   "cell_type": "code",
   "execution_count": 32,
   "metadata": {},
   "outputs": [
    {
     "data": {
      "text/plain": [
       "1467"
      ]
     },
     "execution_count": 32,
     "metadata": {},
     "output_type": "execute_result"
    }
   ],
   "source": [
    "num_deg2 [3:].index (0)"
   ]
  },
  {
   "cell_type": "code",
   "execution_count": null,
   "metadata": {},
   "outputs": [],
   "source": [
    "for k in range (10):\n",
    "    print ('deg {:2}, num of other nodes: {}'.format (k, num_deg2 [k]))"
   ]
  },
  {
   "cell_type": "code",
   "execution_count": 33,
   "metadata": {},
   "outputs": [],
   "source": [
    "import matplotlib.pyplot as plt\n",
    "%matplotlib inline"
   ]
  },
  {
   "cell_type": "code",
   "execution_count": 36,
   "metadata": {},
   "outputs": [
    {
     "data": {
      "text/plain": [
       "[<matplotlib.lines.Line2D at 0x7f11c571d940>]"
      ]
     },
     "execution_count": 36,
     "metadata": {},
     "output_type": "execute_result"
    },
    {
     "data": {
      "image/png": "[encoded data removed]",
      "text/plain": [
       "<Figure size 432x288 with 1 Axes>"
      ]
     },
     "metadata": {
      "needs_background": "light"
     },
     "output_type": "display_data"
    }
   ],
   "source": [
    "plt.plot (num_deg2 [:100])"
   ]
  },
  {
   "cell_type": "markdown",
   "metadata": {},
   "source": [
    "## Find average degree of separation"
   ]
  },
  {
   "cell_type": "code",
   "execution_count": 43,
   "metadata": {},
   "outputs": [],
   "source": [
    "from numpy.random import randint\n",
    "num_nodes = len (adj.keys ())\n",
    "graph_keys = [0 for i in range (num_nodes)]\n",
    "k = 0\n",
    "for key in adj.keys ():\n",
    "    graph_keys [k] = key\n",
    "    k += 1"
   ]
  },
  {
   "cell_type": "code",
   "execution_count": 122,
   "metadata": {},
   "outputs": [
    {
     "name": "stdout",
     "output_type": "stream",
     "text": [
      "percentage of pairs not connected: 100.0\n",
      "average distance between connected nodes: 0.0\n",
      "\n",
      "\n",
      "CPU times: user 1.49 s, sys: 0 ns, total: 1.49 s\n",
      "Wall time: 1.49 s\n"
     ]
    }
   ],
   "source": [
    "%%time\n",
    "num_unreachable = 0\n",
    "total = 0\n",
    "max_iter = 10000000\n",
    "i, j = 0, 0\n",
    "for k in range (max_iter):\n",
    "    while i == j:\n",
    "        i, j = randint (low = 0, high = num_nodes, size = (2))\n",
    "        a, b = graph_keys [i], graph_keys [j]\n",
    "        dist = batch.distance (a, b, 4)\n",
    "    if dist > -1:\n",
    "        total += dist\n",
    "        print (a, b, dist, total)\n",
    "    else:\n",
    "        num_unreachable += 1\n",
    "    \n",
    "print ('percentage of pairs not connected: {}'\n",
    "           .format (num_unreachable * 100.0 / max_iter))\n",
    "print ('average distance between connected nodes: {}\\n\\n'\n",
    "          .format (total / max_iter))"
   ]
  },
  {
   "cell_type": "code",
   "execution_count": 99,
   "metadata": {},
   "outputs": [
    {
     "data": {
      "text/plain": [
       "0"
      ]
     },
     "execution_count": 99,
     "metadata": {},
     "output_type": "execute_result"
    }
   ],
   "source": [
    "#"
   ]
  },
  {
   "cell_type": "code",
   "execution_count": null,
   "metadata": {},
   "outputs": [],
   "source": []
  },
  {
   "cell_type": "code",
   "execution_count": null,
   "metadata": {},
   "outputs": [],
   "source": []
  },
  {
   "cell_type": "code",
   "execution_count": null,
   "metadata": {},
   "outputs": [],
   "source": []
  },
  {
   "cell_type": "code",
   "execution_count": null,
   "metadata": {},
   "outputs": [],
   "source": []
  },
  {
   "cell_type": "code",
   "execution_count": null,
   "metadata": {},
   "outputs": [],
   "source": []
  },
  {
   "cell_type": "code",
   "execution_count": null,
   "metadata": {},
   "outputs": [],
   "source": []
  },
  {
   "cell_type": "code",
   "execution_count": null,
   "metadata": {},
   "outputs": [],
   "source": []
  },
  {
   "cell_type": "code",
   "execution_count": 4,
   "metadata": {},
   "outputs": [
    {
     "data": {
      "text/plain": [
       "77360"
      ]
     },
     "execution_count": 4,
     "metadata": {},
     "output_type": "execute_result"
    }
   ],
   "source": [
    "len (adj.keys ())"
   ]
  },
  {
   "cell_type": "code",
   "execution_count": 10,
   "metadata": {},
   "outputs": [
    {
     "data": {
      "text/plain": [
       "0.0012919896640826874"
      ]
     },
     "execution_count": 10,
     "metadata": {},
     "output_type": "execute_result"
    }
   ],
   "source": [
    "1 / 774"
   ]
  },
  {
   "cell_type": "code",
   "execution_count": null,
   "metadata": {},
   "outputs": [
    {
     "name": "stdout",
     "output_type": "stream",
     "text": [
      "\n",
      "0.0% completed: 0 / 77360\n",
      "**  **  **  **  **  **  **  **  **  **  \n",
      "1.0% completed: 774 / 77360\n",
      "**  **  **  **  **  **  **  **  **  **  \n",
      "2.0% completed: 1548 / 77360\n",
      "**  **  **  **  **  **  **  **  **  **  \n",
      "3.0% completed: 2322 / 77360\n",
      "**  **  **  **  **  **  **  **  **  **  \n",
      "4.0% completed: 3096 / 77360\n",
      "**  **  **  **  **  **  **  **  **  **  \n",
      "5.0% completed: 3870 / 77360\n",
      "**  **  **  **  **  **  **  **  **  **  \n",
      "6.0% completed: 4644 / 77360\n",
      "**  **  **  **  **  **  **  **  **  **  \n",
      "7.0% completed: 5418 / 77360\n",
      "**  **  **  **  **  **  **  **  **  **  \n",
      "8.0% completed: 6192 / 77360\n",
      "**  **  **  **  **  **  **  **  **  **  \n",
      "9.0% completed: 6966 / 77360\n",
      "**  **  **  **  **  **  **  **  **  "
     ]
    }
   ],
   "source": [
    "%%time\n",
    "#building degree 3 adjacent list\n",
    "adj3 = {}\n",
    "\n",
    "k = 0\n",
    "p = 0.0012919896640826874\n",
    "for key in adj.keys ():\n",
    "    tmp = set ()\n",
    "    if k % 774 == 0:\n",
    "        print ('\\n{}% completed: {} / {}'.format (k * p, k, 77360))\n",
    "    elif k % 77 == 0: \n",
    "        print ('**  ', end = '')\n",
    "    k += 1\n",
    "    \n",
    "    dset = adj [key] | adj2 [key] | {key}\n",
    "    for node in adj [key]:\n",
    "        tmp.update (adj2 [node].difference (dset))\n",
    "    adj3 [key] = tmp\n",
    "    \n",
    "# started at 8:16"
   ]
  },
  {
   "cell_type": "code",
   "execution_count": null,
   "metadata": {},
   "outputs": [],
   "source": [
    "%%time\n",
    "#building degree 3 adjacent list\n",
    "adj3 = {}\n",
    "for key in adj.keys ():\n",
    "    tmp = set ()\n",
    "    for node in adj [key]:\n",
    "        tmp.update (adj2 [node])\n",
    "    tmp.discard (key)\n",
    "    tmp.difference_update (adj [key])\n",
    "    tmp.difference_update (adj2 [key])\n",
    "    adj3 [key] = tmp"
   ]
  },
  {
   "cell_type": "code",
   "execution_count": null,
   "metadata": {},
   "outputs": [],
   "source": []
  },
  {
   "cell_type": "code",
   "execution_count": null,
   "metadata": {},
   "outputs": [],
   "source": []
  },
  {
   "cell_type": "code",
   "execution_count": null,
   "metadata": {},
   "outputs": [],
   "source": []
  },
  {
   "cell_type": "code",
   "execution_count": null,
   "metadata": {},
   "outputs": [],
   "source": []
  },
  {
   "cell_type": "code",
   "execution_count": null,
   "metadata": {},
   "outputs": [],
   "source": []
  },
  {
   "cell_type": "code",
   "execution_count": 2,
   "metadata": {},
   "outputs": [
    {
     "name": "stdout",
     "output_type": "stream",
     "text": [
      "CPU times: user 308 ms, sys: 24 ms, total: 332 ms\n",
      "Wall time: 331 ms\n"
     ]
    }
   ],
   "source": [
    "%%time\n",
    "batch.build_adj ()"
   ]
  },
  {
   "cell_type": "code",
   "execution_count": 3,
   "metadata": {},
   "outputs": [
    {
     "name": "stdout",
     "output_type": "stream",
     "text": [
      "CPU times: user 15.4 s, sys: 1.05 s, total: 16.4 s\n",
      "Wall time: 16.4 s\n"
     ]
    }
   ],
   "source": [
    "%%time\n",
    "\n",
    "batch.build_2nd_order_adj_lists ()"
   ]
  },
  {
   "cell_type": "code",
   "execution_count": null,
   "metadata": {},
   "outputs": [],
   "source": [
    "%%time\n",
    "\n",
    "batch.build_higher_order_adj_lists ()"
   ]
  },
  {
   "cell_type": "code",
   "execution_count": null,
   "metadata": {},
   "outputs": [],
   "source": [
    "%%time\n",
    "\n",
    "# Build the inclusive adjacency lists of degrees 2 & 4\n",
    "batch.build_higher_order_adj_lists ()"
   ]
  },
  {
   "cell_type": "code",
   "execution_count": null,
   "metadata": {},
   "outputs": [],
   "source": []
  },
  {
   "cell_type": "code",
   "execution_count": 6,
   "metadata": {},
   "outputs": [
    {
     "name": "stdout",
     "output_type": "stream",
     "text": [
      "CPU times: user 21.8 s, sys: 1.12 s, total: 22.9 s\n",
      "Wall time: 22.9 s\n"
     ]
    }
   ],
   "source": [
    "%%time\n",
    "\n",
    "batch.adj_2 = next_order_adj_list (batch.adj_1)"
   ]
  },
  {
   "cell_type": "code",
   "execution_count": 7,
   "metadata": {},
   "outputs": [
    {
     "name": "stdout",
     "output_type": "stream",
     "text": [
      "CPU times: user 47.4 s, sys: 4.1 ms, total: 47.4 s\n",
      "Wall time: 47.5 s\n"
     ]
    },
    {
     "data": {
      "text/plain": [
       "True"
      ]
     },
     "execution_count": 7,
     "metadata": {},
     "output_type": "execute_result"
    }
   ],
   "source": [
    "%%time\n",
    "batch.is_self_consistent ()"
   ]
  },
  {
   "cell_type": "code",
   "execution_count": null,
   "metadata": {},
   "outputs": [],
   "source": [
    "%%time\n",
    "batch.adj_3 = next_order_adj_list (batch.adj_2)"
   ]
  },
  {
   "cell_type": "code",
   "execution_count": null,
   "metadata": {},
   "outputs": [],
   "source": [
    "%%time\n",
    "batch.is_self_consistent ()"
   ]
  },
  {
   "cell_type": "code",
   "execution_count": 2,
   "metadata": {},
   "outputs": [
    {
     "data": {
      "text/plain": [
       "False"
      ]
     },
     "execution_count": 2,
     "metadata": {},
     "output_type": "execute_result"
    }
   ],
   "source": [
    "feature = batch.copy ()\n",
    "feature is batch"
   ]
  },
  {
   "cell_type": "code",
   "execution_count": 4,
   "metadata": {},
   "outputs": [
    {
     "data": {
      "text/plain": [
       "True"
      ]
     },
     "execution_count": 4,
     "metadata": {},
     "output_type": "execute_result"
    }
   ],
   "source": [
    "feature.is_self_consistent ()"
   ]
  },
  {
   "cell_type": "markdown",
   "metadata": {},
   "source": [
    "# Features"
   ]
  },
  {
   "cell_type": "code",
   "execution_count": null,
   "metadata": {
    "scrolled": true
   },
   "outputs": [],
   "source": [
    "for k in range (10):\n",
    "    print (stream [k], 'distance: ', batch.distance (*stream [k], 4))"
   ]
  },
  {
   "cell_type": "code",
   "execution_count": null,
   "metadata": {},
   "outputs": [],
   "source": [
    "%%time\n",
    "dist = [-1 for i in range (len (stream))]\n",
    "\n",
    "for k in range (len (stream)):\n",
    "    dist [k] = batch.distance (*stream [k], 4)"
   ]
  },
  {
   "cell_type": "code",
   "execution_count": null,
   "metadata": {},
   "outputs": [],
   "source": [
    "def msg_if_ltn (graph, edge, n, message, add_edge = False):\n",
    "    \"\"\"\n",
    "    \n",
    "    \"\"\"\n",
    "    # check if the edge = (a, b) \n",
    "    ltn = graph.distance_lt_n (*edge, n)\n",
    "    if add_edge and not ltn:\n",
    "        graph.add_edge (edge)\n",
    "    return message [0] if ltn else message [1]"
   ]
  },
  {
   "cell_type": "markdown",
   "metadata": {},
   "source": [
    "## Feature 1\n",
    "When anyone makes a payment to another user, they'll be notified if they've never made a transaction with that user before.\n",
    "\n",
    "\"unverified: You've never had a transaction with this user before. Are you sure you would like to proceed with this payment?\""
   ]
  },
  {
   "cell_type": "code",
   "execution_count": null,
   "metadata": {},
   "outputs": [],
   "source": [
    "%%time\n",
    "\n",
    "feature = Graph (batch0.copy ())\n",
    "\n",
    "msg_true = \"verified\"\n",
    "msg_false = \"unverified: You've never had a transaction with this user before. Are you sure you would like to proceed with this payment?\"\n",
    "end = '\\n'\n",
    "message = [msg_true + end,\n",
    "           msg_false + end]\n",
    "output_file = 'output1.txt'\n",
    "n = 1\n",
    "\n",
    "with open (output_file, 'w') as output:\n",
    "    for edge in stream:\n",
    "        output.write (msg_if_ltn (feature, edge, n, message, add_edge = True))\n",
    "print ('number of new nodes: {}\\n'.format (feature.length - batch.length))"
   ]
  },
  {
   "cell_type": "code",
   "execution_count": null,
   "metadata": {},
   "outputs": [],
   "source": [
    "feature.length"
   ]
  },
  {
   "cell_type": "markdown",
   "metadata": {},
   "source": [
    "## Feature 2\n",
    "\n",
    "The PayMo team is concerned that these warnings could be annoying because there are many users who haven't had transactions, but are still in similar social networks. To account for this, PayMo would like you to also implement this feature. When users make a payment, they'll be notified when the other user is outside of their \"2nd-degree network\".\n",
    "\n",
    "\"unverified: This user is not a friend or a \"friend of a friend\". Are you sure you would like to proceed with this payment?\""
   ]
  },
  {
   "cell_type": "code",
   "execution_count": null,
   "metadata": {},
   "outputs": [],
   "source": [
    "feature = Graph (batch0)\n",
    "feature.length"
   ]
  },
  {
   "cell_type": "code",
   "execution_count": null,
   "metadata": {},
   "outputs": [],
   "source": [
    "%%time\n",
    "\n",
    "output_file = 'output2.txt'\n",
    "n = 2\n",
    "\n",
    "msg_true = \"verified\"\n",
    "msg_false = 'unverified: This user is not a friend or a \"friend of a friend\". Are you sure you would like to proceed with this payment?'\n",
    "end = '\\n'\n",
    "message = [msg_true + end,\n",
    "           msg_false + end]\n",
    "\n",
    "\n",
    "feature = Graph (batch0.copy ())\n",
    "\n",
    "with open (output_file, 'w') as output:\n",
    "    for edge in stream:\n",
    "        output.write (msg_if_ltn (feature, edge, n, message, add_edge = True))\n",
    "#        if feature.distance_lt_n (*edge, n):\n",
    "#            output.write (msg_true + end)\n",
    "#        else:\n",
    "#            output.write (msg_false + end)\n",
    "#            feature.add_edge (edge)\n",
    "print ('number of new nodes: {}\\n'.format (feature.length - batch.length))"
   ]
  },
  {
   "cell_type": "code",
   "execution_count": null,
   "metadata": {},
   "outputs": [],
   "source": [
    "feature.distance (42402, 42402)"
   ]
  },
  {
   "cell_type": "code",
   "execution_count": null,
   "metadata": {},
   "outputs": [],
   "source": [
    "feature.length"
   ]
  },
  {
   "cell_type": "markdown",
   "metadata": {},
   "source": [
    "## Feature 3\n",
    "\n",
    "More generally, PayMo would like to extend this feature to larger social networks. Implement a feature to warn users only when they're outside the \"4th degree friends network.\""
   ]
  },
  {
   "cell_type": "code",
   "execution_count": null,
   "metadata": {},
   "outputs": [],
   "source": [
    "%%time\n",
    "msg_true = \"verified\"\n",
    "msg_false = 'unverified: This user is not a friend or a \"friend of a friend\". Are you sure you would like to proceed with this payment?'\n",
    "output_file = 'output3.txt'\n",
    "n = 4\n",
    "\n",
    "start_length = feature.length\n",
    "with open (output_file, 'w') as output:\n",
    "    for edge in stream:\n",
    "        for edge in stream:\n",
    "        if feature.distance_lt_n (*edge, n):\n",
    "            output.write (msg_true)\n",
    "        else:\n",
    "            output.write (msg_false)\n",
    "            feature.add_edge (edge)\n",
    "            \n",
    "print ('number of new nodes: {}\\n'.format (feature.length - start_length))"
   ]
  },
  {
   "cell_type": "code",
   "execution_count": null,
   "metadata": {},
   "outputs": [],
   "source": []
  },
  {
   "cell_type": "code",
   "execution_count": null,
   "metadata": {},
   "outputs": [],
   "source": []
  }
 ],
 "metadata": {
  "kernelspec": {
   "display_name": "Python 3",
   "language": "python",
   "name": "python3"
  },
  "language_info": {
   "codemirror_mode": {
    "name": "ipython",
    "version": 3
   },
   "file_extension": ".py",
   "mimetype": "text/x-python",
   "name": "python",
   "nbconvert_exporter": "python",
   "pygments_lexer": "ipython3",
   "version": "3.7.1"
  }
 },
 "nbformat": 4,
 "nbformat_minor": 2
}
