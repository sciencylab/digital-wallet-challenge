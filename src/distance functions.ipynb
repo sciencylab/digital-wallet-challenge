{
 "cells": [
  {
   "cell_type": "code",
   "execution_count": 1,
   "metadata": {},
   "outputs": [
    {
     "name": "stdout",
     "output_type": "stream",
     "text": [
      "CPU times: user 13.6 s, sys: 391 ms, total: 14 s\n",
      "Wall time: 14 s\n"
     ]
    }
   ],
   "source": [
    "%%time\n",
    "\n",
    "from antifraud import read_adj_dict_from_file, read_into_list_of_tuples\n",
    "from graph_algorithms import Graph\n",
    "\n",
    "# set file names\n",
    "batch  = '../paymo_input/batch_payment.txt'\n",
    "stream = '../paymo_input/stream_payment.txt'\n",
    "\n",
    "# Read files\n",
    "# Turn on verboisity to see the lines that did not conform to the csv format (Note: \n",
    "# it's the same 5 or so lines over and over again)\n",
    "batch0 = read_adj_dict_from_file (batch, verbose = False)\n",
    "stream = read_into_list_of_tuples (stream, verbose = False) \n",
    "\n",
    "# attach\n",
    "batch = Graph (batch0)"
   ]
  },
  {
   "cell_type": "code",
   "execution_count": 8,
   "metadata": {},
   "outputs": [
    {
     "name": "stdout",
     "output_type": "stream",
     "text": [
      "CPU times: user 16.4 s, sys: 27.9 ms, total: 16.4 s\n",
      "Wall time: 16.4 s\n"
     ]
    }
   ],
   "source": [
    "%%time\n",
    "\n",
    "# 1st order adjacent lists\n",
    "adj_ex = batch0.copy ()\n",
    "# inclusive version\n",
    "adj = adj_ex.copy ()\n",
    "for key in adj.keys ():\n",
    "    adj [key].add (key)   # adds itself (separated by deg 0)\n",
    "    \n",
    "    \n",
    "    \n",
    "# building degree 2 adjacent lists\n",
    "adj2 = {}      # degs 0, 1, & 2\n",
    "for key in adj_ex.keys ():\n",
    "    tmp = set ()\n",
    "    for node in adj_ex [key]:\n",
    "        tmp.update (adj_ex [node])\n",
    "    adj2 [key] = tmp\n"
   ]
  },
  {
   "cell_type": "markdown",
   "metadata": {},
   "source": [
    "# Check if adj2 is truly inclusive"
   ]
  },
  {
   "cell_type": "code",
   "execution_count": 10,
   "metadata": {},
   "outputs": [
    {
     "data": {
      "text/plain": [
       "True"
      ]
     },
     "execution_count": 10,
     "metadata": {},
     "output_type": "execute_result"
    }
   ],
   "source": [
    "def is_inclusive (adj, adj2):\n",
    "    for key in adj.keys ():\n",
    "        if key not in adj2 [key]:\n",
    "            print ('key {} is not found in adj [key]'.format (key))\n",
    "            return False\n",
    "        if not adj [key].issubset (adj2 [key]):\n",
    "            print ('adj [{}] is not a subset of adj [key]'.format (key))\n",
    "            return False\n",
    "    return True\n",
    "is_inclusive (adj, adj2)"
   ]
  },
  {
   "cell_type": "code",
   "execution_count": null,
   "metadata": {},
   "outputs": [],
   "source": []
  },
  {
   "cell_type": "code",
   "execution_count": 3,
   "metadata": {
    "scrolled": true
   },
   "outputs": [
    {
     "data": {
      "text/plain": [
       "2999997"
      ]
     },
     "execution_count": 3,
     "metadata": {},
     "output_type": "execute_result"
    }
   ],
   "source": [
    "len (stream)"
   ]
  },
  {
   "cell_type": "code",
   "execution_count": 14,
   "metadata": {},
   "outputs": [
    {
     "name": "stdout",
     "output_type": "stream",
     "text": [
      "934\n",
      "\n",
      "CPU times: user 9.85 s, sys: 2.82 ms, total: 9.85 s\n",
      "Wall time: 9.85 s\n"
     ]
    }
   ],
   "source": [
    "%%time\n",
    "\n",
    "k = 1\n",
    "total = 0\n",
    "for pair in stream:\n",
    "    if batch.distance (*pair, n = 4) > -1:\n",
    "        total += 1\n",
    "    if k == 1000:\n",
    "        break\n",
    "    k += 1\n",
    "    \n",
    "print (total, end = '\\n\\n')    "
   ]
  },
  {
   "cell_type": "code",
   "execution_count": 15,
   "metadata": {},
   "outputs": [
    {
     "name": "stdout",
     "output_type": "stream",
     "text": [
      "934\n",
      "\n",
      "CPU times: user 5.76 s, sys: 49 µs, total: 5.76 s\n",
      "Wall time: 5.76 s\n"
     ]
    }
   ],
   "source": [
    "%%time\n",
    "\n",
    "k = 1\n",
    "total = 0\n",
    "for pair in stream:\n",
    "    if batch.distance_lt_n (*pair, n = 4) == True:\n",
    "        total += 1\n",
    "    if k == 1000:\n",
    "        break\n",
    "    k += 1\n",
    "    \n",
    "print (total, end = '\\n\\n')    "
   ]
  },
  {
   "cell_type": "code",
   "execution_count": 17,
   "metadata": {},
   "outputs": [
    {
     "name": "stdout",
     "output_type": "stream",
     "text": [
      "Number of inconsistent pairs:  0\n",
      "\n",
      "CPU times: user 15.5 s, sys: 52 µs, total: 15.5 s\n",
      "Wall time: 15.5 s\n"
     ]
    }
   ],
   "source": [
    "%%time\n",
    "\n",
    "# Check if distance & distance_lt_n give inconsistent answers\n",
    "\n",
    "k = 1\n",
    "total = 0\n",
    "for pair in stream:\n",
    "    lt4 = batch.distance (*pair, n = 4) > -1\n",
    "    if batch.distance_lt_n (*pair, n = 4) != lt4:\n",
    "        total += 1\n",
    "        print (pair)\n",
    "    if k == 1000:\n",
    "        break\n",
    "    k += 1\n",
    "    \n",
    "print ('Number of inconsistent pairs: ', total, end = '\\n\\n')    "
   ]
  },
  {
   "cell_type": "code",
   "execution_count": 22,
   "metadata": {},
   "outputs": [
    {
     "name": "stdout",
     "output_type": "stream",
     "text": [
      "True\n"
     ]
    },
    {
     "data": {
      "text/plain": [
       "{8683, 52575, 75059}"
      ]
     },
     "execution_count": 22,
     "metadata": {},
     "output_type": "execute_result"
    }
   ],
   "source": [
    "elem = 52575\n",
    "find = '1b' # elem\n",
    "print (elem in batch.adj.keys ())\n",
    "batch.next_degree_friends_sc ({elem}, find) # == next_degree_friends (batch0, {elem})"
   ]
  },
  {
   "cell_type": "markdown",
   "metadata": {},
   "source": [
    "# Building new distance functions"
   ]
  },
  {
   "cell_type": "markdown",
   "metadata": {},
   "source": [
    "## deg 2 or less"
   ]
  },
  {
   "cell_type": "code",
   "execution_count": 57,
   "metadata": {},
   "outputs": [],
   "source": [
    "def if_lte_deg2 (adj, adj2, pair):\n",
    "    a, b = pair\n",
    "    \n",
    "    if a == b:\n",
    "        return True\n",
    "    elif a not in adj.keys () or b not in adj.keys ():\n",
    "        return False\n",
    "    elif a in adj [b]:\n",
    "        return True\n",
    "    else:\n",
    "        return a in adj2 [b]"
   ]
  },
  {
   "cell_type": "code",
   "execution_count": 65,
   "metadata": {},
   "outputs": [
    {
     "name": "stdout",
     "output_type": "stream",
     "text": [
      "Number of inconsistent pairs:  0\n",
      "\n",
      "CPU times: user 5.54 s, sys: 0 ns, total: 5.54 s\n",
      "Wall time: 5.54 s\n"
     ]
    }
   ],
   "source": [
    "%%time\n",
    "\n",
    "# Check if if_lte_deg2 & distance_lt_n (n=2) give inconsistent answers\n",
    "\n",
    "k = 1\n",
    "total = 0\n",
    "for pair in stream:\n",
    "    if if_lte_deg2 (adj, adj2, pair) != batch.distance_lt_n (*pair, n = 2):\n",
    "        total += 1\n",
    "        print (pair)\n",
    "    if k == 100000:\n",
    "        break\n",
    "    k += 1\n",
    "    \n",
    "print ('Number of inconsistent pairs: ', total, end = '\\n\\n')    "
   ]
  },
  {
   "cell_type": "code",
   "execution_count": 38,
   "metadata": {},
   "outputs": [
    {
     "name": "stdout",
     "output_type": "stream",
     "text": [
      "787\n",
      "\n",
      "CPU times: user 73.1 ms, sys: 130 µs, total: 73.3 ms\n",
      "Wall time: 74.6 ms\n"
     ]
    }
   ],
   "source": [
    "%%time\n",
    "\n",
    "k = 1\n",
    "total = 0\n",
    "for pair in stream:\n",
    "    if batch.distance_lt_n (*pair, n = 2) == True:\n",
    "        total += 1\n",
    "    if k == 1000:\n",
    "        break\n",
    "    k += 1\n",
    "    \n",
    "print (total, end = '\\n\\n')    "
   ]
  },
  {
   "cell_type": "code",
   "execution_count": 45,
   "metadata": {},
   "outputs": [
    {
     "name": "stdout",
     "output_type": "stream",
     "text": [
      "787\n",
      "\n",
      "CPU times: user 1.67 ms, sys: 24 µs, total: 1.7 ms\n",
      "Wall time: 1.68 ms\n"
     ]
    }
   ],
   "source": [
    "%%time\n",
    "\n",
    "k = 1\n",
    "total = 0\n",
    "for pair in stream:\n",
    "    if if_lte_deg2 (adj, adj2, pair):\n",
    "        total += 1\n",
    "    if k == 1000:\n",
    "        break\n",
    "    k += 1\n",
    "    \n",
    "print (total, end = '\\n\\n')    "
   ]
  },
  {
   "cell_type": "markdown",
   "metadata": {},
   "source": [
    "## deg 4 or less"
   ]
  },
  {
   "cell_type": "code",
   "execution_count": 20,
   "metadata": {},
   "outputs": [],
   "source": [
    "def if_lte_deg4 (adj, adj2, pair):\n",
    "    a, b = pair\n",
    "    \n",
    "    if a == b:     # deg 0\n",
    "        return True\n",
    "    elif a not in adj.keys () or b not in adj.keys ():  # >= one of (a, b) is not a node in graph 'adj'\n",
    "        return False\n",
    "    elif a in adj [b]:   # a & b are deg 1 apart\n",
    "        return True\n",
    "    elif a in adj2 [b]:  # a & b are deg 2 apart\n",
    "        return True\n",
    "    else:\n",
    "        for key in adj2 [b]:\n",
    "            if a in adj2 [key]:\n",
    "                return True\n",
    "        return False"
   ]
  },
  {
   "cell_type": "code",
   "execution_count": 22,
   "metadata": {},
   "outputs": [
    {
     "name": "stdout",
     "output_type": "stream",
     "text": [
      "Number of inconsistent pairs:  0\n",
      "\n",
      "CPU times: user 47.2 s, sys: 3.86 ms, total: 47.2 s\n",
      "Wall time: 47.2 s\n"
     ]
    }
   ],
   "source": [
    "%%time\n",
    "\n",
    "# Check if if_lte_deg4 & distance_lt_n (n=4) give inconsistent answers\n",
    "\n",
    "k = 1\n",
    "total = 0\n",
    "for pair in stream:\n",
    "    if if_lte_deg4 (adj, adj2, pair) != batch.distance_lt_n (*pair, n = 4):\n",
    "        total += 1\n",
    "        print (pair)\n",
    "        break\n",
    "    if k == 10000:\n",
    "        break\n",
    "    k += 1\n",
    "    \n",
    "print ('Number of inconsistent pairs: ', total, end = '\\n\\n')    "
   ]
  },
  {
   "cell_type": "code",
   "execution_count": 17,
   "metadata": {},
   "outputs": [
    {
     "name": "stdout",
     "output_type": "stream",
     "text": [
      "934\n",
      "\n",
      "CPU times: user 10.1 s, sys: 0 ns, total: 10.1 s\n",
      "Wall time: 10.1 s\n"
     ]
    }
   ],
   "source": [
    "%%time\n",
    "\n",
    "k = 1\n",
    "total = 0\n",
    "for pair in stream:\n",
    "    if batch.distance (*pair, n = 4) > -1:\n",
    "        total += 1\n",
    "    if k == 1000:\n",
    "        break\n",
    "    k += 1\n",
    "    \n",
    "print (total, end = '\\n\\n')    "
   ]
  },
  {
   "cell_type": "code",
   "execution_count": 33,
   "metadata": {},
   "outputs": [
    {
     "data": {
      "text/plain": [
       "370.3703703703704"
      ]
     },
     "execution_count": 33,
     "metadata": {},
     "output_type": "execute_result"
    }
   ],
   "source": [
    "10 / 27e-3"
   ]
  },
  {
   "cell_type": "code",
   "execution_count": 15,
   "metadata": {},
   "outputs": [
    {
     "name": "stdout",
     "output_type": "stream",
     "text": [
      "934\n",
      "\n",
      "CPU times: user 5.82 s, sys: 0 ns, total: 5.82 s\n",
      "Wall time: 5.82 s\n"
     ]
    }
   ],
   "source": [
    "%%time\n",
    "\n",
    "k = 1\n",
    "total = 0\n",
    "for pair in stream:\n",
    "    if batch.distance_lt_n (*pair, n = 4):\n",
    "        total += 1\n",
    "    if k == 1000:\n",
    "        break\n",
    "    k += 1\n",
    "    \n",
    "print (total, end = '\\n\\n')    "
   ]
  },
  {
   "cell_type": "code",
   "execution_count": 32,
   "metadata": {},
   "outputs": [
    {
     "name": "stdout",
     "output_type": "stream",
     "text": [
      "934 out of  1000 ,  93.4%\n",
      "\n",
      "CPU times: user 27.5 ms, sys: 0 ns, total: 27.5 ms\n",
      "Wall time: 27.6 ms\n"
     ]
    }
   ],
   "source": [
    "%%time\n",
    "\n",
    "k = 1\n",
    "total = 0\n",
    "for pair in stream:\n",
    "    if if_lte_deg4 (adj, adj2, pair):\n",
    "        total += 1\n",
    "    if k == 1000:\n",
    "        break\n",
    "    k += 1\n",
    "    \n",
    "print (total, 'out of ', k, ', ', total * 100.0 / k, end = '%\\n\\n')"
   ]
  },
  {
   "cell_type": "code",
   "execution_count": 29,
   "metadata": {},
   "outputs": [
    {
     "name": "stdout",
     "output_type": "stream",
     "text": [
      "2775423 out of  2999998\n",
      "\n",
      "CPU times: user 34.8 s, sys: 12 ms, total: 34.8 s\n",
      "Wall time: 34.8 s\n"
     ]
    }
   ],
   "source": [
    "%%time\n",
    "\n",
    "k = 1\n",
    "total = 0\n",
    "for pair in stream:\n",
    "    if if_lte_deg4 (adj, adj2, pair):\n",
    "        total += 1\n",
    "    k += 1\n",
    "    \n",
    "print (total, 'out of ', k, end = '\\n\\n')"
   ]
  },
  {
   "cell_type": "code",
   "execution_count": 30,
   "metadata": {},
   "outputs": [
    {
     "data": {
      "text/plain": [
       "92.51416167610779"
      ]
     },
     "execution_count": 30,
     "metadata": {},
     "output_type": "execute_result"
    }
   ],
   "source": [
    "2775423 * 100.0 / 2999998"
   ]
  }
 ],
 "metadata": {
  "kernelspec": {
   "display_name": "Python 3",
   "language": "python",
   "name": "python3"
  },
  "language_info": {
   "codemirror_mode": {
    "name": "ipython",
    "version": 3
   },
   "file_extension": ".py",
   "mimetype": "text/x-python",
   "name": "python",
   "nbconvert_exporter": "python",
   "pygments_lexer": "ipython3",
   "version": "3.7.1"
  }
 },
 "nbformat": 4,
 "nbformat_minor": 2
}
