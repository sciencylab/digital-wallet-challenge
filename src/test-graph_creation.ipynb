{
 "cells": [
  {
   "cell_type": "code",
   "execution_count": 1,
   "metadata": {},
   "outputs": [],
   "source": [
    "from read_processing_files import read_into_list_of_tuples\n",
    "from graph_algorithms import Graph"
   ]
  },
  {
   "cell_type": "code",
   "execution_count": 2,
   "metadata": {},
   "outputs": [],
   "source": [
    "def pass_fail (logic, message = ''):\n",
    "    if logic:\n",
    "        print ('[PASS]: ', end = '')\n",
    "    else:\n",
    "        print ('[FAIL]: ', end = '')\n",
    "    print (message)"
   ]
  },
  {
   "cell_type": "markdown",
   "metadata": {},
   "source": [
    "# Read files"
   ]
  },
  {
   "cell_type": "code",
   "execution_count": 3,
   "metadata": {},
   "outputs": [
    {
     "name": "stdout",
     "output_type": "stream",
     "text": [
      "CPU times: user 21.5 s, sys: 683 ms, total: 22.2 s\n",
      "Wall time: 22.8 s\n"
     ]
    }
   ],
   "source": [
    "%%time\n",
    "\n",
    "# read files\n",
    "batch  = '../paymo_input/batch_payment.txt'\n",
    "stream = '../paymo_input/stream_payment.txt'\n",
    "\n",
    "batch0 = read_into_list_of_tuples (batch)\n",
    "stream = read_into_list_of_tuples (stream)\n",
    "\n",
    "# build graphs\n",
    "batch    = Graph (batch0)\n",
    "features = batch.copy ()"
   ]
  },
  {
   "cell_type": "markdown",
   "metadata": {},
   "source": [
    "# Dynamic programming\n",
    "### Idea\n",
    "The adjacency list 'adj_list' is that of the graph of 1 degree of separation. Using just this to calculate the distance between 2 arbitrary node turns out to be too computationally expensive (for my taste at least) when dealing with the stream_processing.txt file.\n",
    "\n",
    "So, the idea is to build adjacency list of 2 degrees of separation as well. That should eliminate a good deal of redundant computations and hopefully the result will be noticeably faster. Building adjacency list of 4th order turned out to be **way too** expensive computationally, and so I decided not to bother with it.\n",
    "\n",
    "### Test Problem\n",
    "<img src=\"image/example_graph.jpg\" width=\"50%\">\n",
    "Let the graph G be defined by the following list of edges:\n",
    "$$\n",
    "\\text{edges} (G) =\n",
    "[(1, 13), (1, 3), (1, 4),\n",
    " (2, 12),\n",
    " (4, 13),\n",
    " (3, 5),\n",
    " (5, 6), (5, 11),\n",
    " (6, 8), (6, 9), (6, 10),\n",
    " (7, 8),\n",
    " (10, 11)]\n",
    "$$"
   ]
  },
  {
   "cell_type": "code",
   "execution_count": 4,
   "metadata": {},
   "outputs": [],
   "source": [
    "# exclusive 1st order adjacency list for G (does not include nodes separated by degree zero)\n",
    "adj_1_exclusive = {1 : {3, 4, 13}, 2 : {12}, 3 : {1, 5}, 4 : {1, 13}, 5 : {3, 6, 11}, 6 : {5, 8, 9, 10},\n",
    "7 : {8, 12}, 8 : {6, 7}, 9 : {6}, 10: {6, 11}, 11: {5, 10}, 12: {2, 7}, 13: {1, 4}}\n",
    "\n",
    "# inclusive 1st order adjacency list for G\n",
    "adj_1 = {}\n",
    "for key in adj_1_exclusive.keys ():\n",
    "    adj_1 [key] = {key} | adj_1_exclusive [key]\n",
    "\n",
    "# exclusive 2nd order adjacency list for G\n",
    "adj_2_exclusive = {1 : {5}, 2 : {7}, 3 : {4, 6, 11, 13}, 4 : {3}, 5 : {1, 8, 9, 10}, 6 : {3, 7, 11},\n",
    "7 : {2, 6}, 8 : {5, 9, 10, 12}, 9 : {5, 8, 10}, 10: {5, 8, 9}, 11: {3, 6}, 12: {8}, 13: {3}}\n",
    "\n",
    "# inclusive 2nd order adjacency list for G\n",
    "adj_2 = {}\n",
    "for key in adj_1.keys ():\n",
    "    adj_2 [key] = adj_1 [key] | adj_2_exclusive [key]"
   ]
  },
  {
   "cell_type": "code",
   "execution_count": 5,
   "metadata": {},
   "outputs": [
    {
     "data": {
      "text/plain": [
       "(True, True)"
      ]
     },
     "execution_count": 5,
     "metadata": {},
     "output_type": "execute_result"
    }
   ],
   "source": [
    "# just confirming that I didn't accidentally point one to the other\n",
    "adj_1_exclusive != adj_1, adj_2_exclusive != adj_2"
   ]
  },
  {
   "cell_type": "code",
   "execution_count": 6,
   "metadata": {},
   "outputs": [
    {
     "name": "stdout",
     "output_type": "stream",
     "text": [
      "[PASS]: G.adj after adding edges\n",
      "[PASS]: method friends_of_friends check\n",
      "[PASS]: Self-consistency of G\n"
     ]
    }
   ],
   "source": [
    "edges = [(1, 13), (1, 3), (1, 4), (2, 12), (4, 13), (3, 5), (5, 6),\n",
    "         (5, 11), (6, 8), (6, 9), (6, 10), (7, 8), (7, 12), (10, 11)]\n",
    "G = Graph ({})\n",
    "\n",
    "# create graph G from list of edges\n",
    "G.add_edges (edges)\n",
    "\n",
    "# compare inclusive adjacency lists or order 1 & 2\n",
    "pass_fail (G.adj  == adj_1, \"G.adj after adding edges\")\n",
    "passed = True\n",
    "for key in G.adj.keys ():\n",
    "    if G.friends_of_friends (key) != adj_2 [key]:\n",
    "        pass_fail (False, \"G.adj2 after adding edges\")\n",
    "        passed = False\n",
    "if passed: pass_fail (True, \"method friends_of_friends check\")\n",
    "    \n",
    "# Check for self-consistency\n",
    "pass_fail (G.is_self_consistent (), \"Self-consistency of G\")"
   ]
  },
  {
   "cell_type": "markdown",
   "metadata": {},
   "source": [
    "### Repeat same test as before, but w/ the ordered pairs reversed"
   ]
  },
  {
   "cell_type": "code",
   "execution_count": 7,
   "metadata": {},
   "outputs": [
    {
     "name": "stdout",
     "output_type": "stream",
     "text": [
      "[PASS]: G.adj after adding edges\n",
      "[PASS]: method friends_of_friends check\n",
      "[PASS]: Self-consistency of G\n"
     ]
    }
   ],
   "source": [
    "edges = [(y, x) for x, y in edges]\n",
    "G = Graph ({})\n",
    "\n",
    "# create graph G from list of edges\n",
    "G.add_edges (edges)\n",
    "\n",
    "# compare inclusive adjacency lists or order 1 & 2\n",
    "pass_fail (G.adj  == adj_1, \"G.adj after adding edges\")\n",
    "passed = True\n",
    "for key in G.adj.keys ():\n",
    "    if G.friends_of_friends (key) != adj_2 [key]:\n",
    "        pass_fail (False, \"G.adj2 after adding edges\")\n",
    "        passed = False\n",
    "if passed: pass_fail (True, \"method friends_of_friends check\")\n",
    "\n",
    "# Check for self-consistency\n",
    "pass_fail (G.is_self_consistent (), \"Self-consistency of G\")"
   ]
  },
  {
   "cell_type": "markdown",
   "metadata": {},
   "source": [
    "# Tests and examples\n",
    "\n",
    "list of tests and excamples:\n",
    "1. test case for graph creation using adjacency list\n",
    "2. Confirm algo can handle being given node not in graph\n",
    "3. Check how long it takes to confirm 2 nodes are separated by degree 4 (**24 micro seconds**!)"
   ]
  },
  {
   "cell_type": "markdown",
   "metadata": {},
   "source": [
    "### test case for function adjacency_dict\n",
    "```\n",
    "a\n",
    "| \\\n",
    "b--c--d--e\n",
    "```\n",
    "connections: (a, b), (a, c), (b, c), (c, d), (d, e)\n",
    "\n",
    "or, as 2 lists: (a, a, b, c, d) and (b, c, c, d, e)"
   ]
  },
  {
   "cell_type": "code",
   "execution_count": 11,
   "metadata": {},
   "outputs": [
    {
     "name": "stdout",
     "output_type": "stream",
     "text": [
      "[PASS]: method distance\n",
      "[PASS]: method distance\n",
      "[PASS]: num_nodes update after adding new edge\n",
      "[PASS]: adj update after adding new edge\n",
      "[PASS]: checking method friends_of_friends after adding new edges\n"
     ]
    }
   ],
   "source": [
    "# Use edges to test out add_edges method\n",
    "ex_edges = [('a', 'b'), ('a', 'c'), ('b', 'c'), ('c', 'd'), ('d', 'e')]\n",
    "ex_graph = Graph (ex_edges)\n",
    "#ex_graph.add_edges (ex_edges)\n",
    "\n",
    "pass_fail (ex_graph.distance (('a', 'e')) == 3, 'method distance')\n",
    "pass_fail (ex_graph.distance_lte (('a', 'e'), 3), 'method distance')\n",
    "\n",
    "# Add edge w/ new node 'f'\n",
    "ex_graph.add_edge (('f', 'e'))\n",
    "\n",
    "pass_fail (ex_graph.num_nodes == 6,\n",
    "           'num_nodes update after adding new edge')\n",
    "# inclusive adjacency list\n",
    "pass_fail (ex_graph.adj == {'a': {'a', 'b', 'c'},\n",
    "                            'b': {'a', 'b', 'c'},\n",
    "                            'c': {'a', 'b', 'c', 'd'},\n",
    "                            'd': {'c', 'd', 'e'}, \n",
    "                            'e': {'d', 'e', 'f'},\n",
    "                            'f': {'e', 'f'}},\n",
    "           'adj update after adding new edge')\n",
    "# inclusive adjacency list of order 2\n",
    "ex_adj_2 = {'a': {'a', 'b', 'c', 'd'},\n",
    "            'b': {'a', 'b', 'c', 'd'},\n",
    "            'c': {'a', 'b', 'c', 'd', 'e'},\n",
    "            'd': {'a', 'b', 'c', 'd', 'e', 'f'},\n",
    "            'e': {'c', 'd', 'e', 'f'},\n",
    "            'f': {'d', 'e', 'f'}}\n",
    "\n",
    "for key in ex_graph.adj.keys ():\n",
    "    if ex_graph.friends_of_friends (key) != ex_adj_2 [key]:\n",
    "        pass_fail (False, \"checking method friends_of_friends after adding edges\")\n",
    "        passed = False\n",
    "if passed: pass_fail (True, \"checking method friends_of_friends after adding new edges\")\n"
   ]
  },
  {
   "cell_type": "markdown",
   "metadata": {},
   "source": [
    "### Confirm algo can handle being given node not in graph"
   ]
  },
  {
   "cell_type": "code",
   "execution_count": 25,
   "metadata": {},
   "outputs": [],
   "source": [
    "pair = (49466, 27060006)"
   ]
  },
  {
   "cell_type": "code",
   "execution_count": 26,
   "metadata": {
    "scrolled": true
   },
   "outputs": [
    {
     "name": "stdout",
     "output_type": "stream",
     "text": [
      "CPU times: user 9 µs, sys: 0 ns, total: 9 µs\n",
      "Wall time: 11.9 µs\n"
     ]
    },
    {
     "data": {
      "text/plain": [
       "True"
      ]
     },
     "execution_count": 26,
     "metadata": {},
     "output_type": "execute_result"
    }
   ],
   "source": [
    "%time batch.distance (pair) == -1"
   ]
  },
  {
   "cell_type": "code",
   "execution_count": 27,
   "metadata": {
    "scrolled": true
   },
   "outputs": [
    {
     "name": "stdout",
     "output_type": "stream",
     "text": [
      "CPU times: user 8 µs, sys: 0 ns, total: 8 µs\n",
      "Wall time: 11.4 µs\n"
     ]
    },
    {
     "data": {
      "text/plain": [
       "True"
      ]
     },
     "execution_count": 27,
     "metadata": {},
     "output_type": "execute_result"
    }
   ],
   "source": [
    "%time batch.distance_lte (pair, n = 100) == False"
   ]
  },
  {
   "cell_type": "code",
   "execution_count": 28,
   "metadata": {},
   "outputs": [
    {
     "name": "stdout",
     "output_type": "stream",
     "text": [
      "CPU times: user 8 µs, sys: 0 ns, total: 8 µs\n",
      "Wall time: 11.2 µs\n"
     ]
    },
    {
     "data": {
      "text/plain": [
       "True"
      ]
     },
     "execution_count": 28,
     "metadata": {},
     "output_type": "execute_result"
    }
   ],
   "source": [
    "%time batch.if_lte_deg4 (pair) == False"
   ]
  },
  {
   "cell_type": "markdown",
   "metadata": {},
   "source": [
    "### Check how long it takes to confirm 2 nodes are separated by degree 3"
   ]
  },
  {
   "cell_type": "code",
   "execution_count": 29,
   "metadata": {},
   "outputs": [],
   "source": [
    "dist3 = []\n",
    "for pair in stream [:1000]:\n",
    "    if batch.distance (pair, 3) == 3:\n",
    "        dist3.append (pair)"
   ]
  },
  {
   "cell_type": "code",
   "execution_count": 30,
   "metadata": {},
   "outputs": [
    {
     "name": "stdout",
     "output_type": "stream",
     "text": [
      "775 µs ± 28.3 µs per loop (mean ± std. dev. of 7 runs, 1000 loops each)\n"
     ]
    }
   ],
   "source": [
    "from numpy.random import randint\n",
    "k = randint (0, len (dist3))\n",
    "%timeit batch.if_lte_deg4 (dist3 [k])"
   ]
  },
  {
   "cell_type": "markdown",
   "metadata": {},
   "source": [
    "### Check how long it takes to confirm 2 nodes are separated by degree 4"
   ]
  },
  {
   "cell_type": "code",
   "execution_count": 31,
   "metadata": {},
   "outputs": [],
   "source": [
    "pair = (49466, 2706)"
   ]
  },
  {
   "cell_type": "code",
   "execution_count": 32,
   "metadata": {},
   "outputs": [
    {
     "data": {
      "text/plain": [
       "True"
      ]
     },
     "execution_count": 32,
     "metadata": {},
     "output_type": "execute_result"
    }
   ],
   "source": [
    "batch.distance (pair) == 4"
   ]
  },
  {
   "cell_type": "code",
   "execution_count": 33,
   "metadata": {},
   "outputs": [
    {
     "name": "stdout",
     "output_type": "stream",
     "text": [
      "36.6 ms ± 2.81 ms per loop (mean ± std. dev. of 7 runs, 10 loops each)\n"
     ]
    }
   ],
   "source": [
    "%timeit batch.distance (pair)"
   ]
  },
  {
   "cell_type": "code",
   "execution_count": 34,
   "metadata": {},
   "outputs": [
    {
     "name": "stdout",
     "output_type": "stream",
     "text": [
      "23.7 µs ± 596 ns per loop (mean ± std. dev. of 7 runs, 10000 loops each)\n"
     ]
    }
   ],
   "source": [
    "%timeit batch.if_lte_deg4 (pair)"
   ]
  },
  {
   "cell_type": "code",
   "execution_count": 36,
   "metadata": {},
   "outputs": [
    {
     "name": "stdout",
     "output_type": "stream",
     "text": [
      "24.2 µs ± 1.34 µs per loop (mean ± std. dev. of 7 runs, 10000 loops each)\n"
     ]
    }
   ],
   "source": [
    "%timeit batch.degree_lte (pair, 4)"
   ]
  },
  {
   "cell_type": "code",
   "execution_count": 37,
   "metadata": {},
   "outputs": [
    {
     "data": {
      "text/plain": [
       "1512.396694214876"
      ]
     },
     "execution_count": 37,
     "metadata": {},
     "output_type": "execute_result"
    }
   ],
   "source": [
    "36.6e3 / 24.2"
   ]
  }
 ],
 "metadata": {
  "kernelspec": {
   "display_name": "Python 3",
   "language": "python",
   "name": "python3"
  },
  "language_info": {
   "codemirror_mode": {
    "name": "ipython",
    "version": 3
   },
   "file_extension": ".py",
   "mimetype": "text/x-python",
   "name": "python",
   "nbconvert_exporter": "python",
   "pygments_lexer": "ipython3",
   "version": "3.7.1"
  }
 },
 "nbformat": 4,
 "nbformat_minor": 2
}
