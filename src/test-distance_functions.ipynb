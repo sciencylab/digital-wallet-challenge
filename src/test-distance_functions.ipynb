{
 "cells": [
  {
   "cell_type": "markdown",
   "metadata": {},
   "source": [
    "# Unit tests and speed comparison of the various distance functions"
   ]
  },
  {
   "cell_type": "code",
   "execution_count": 1,
   "metadata": {},
   "outputs": [
    {
     "name": "stdout",
     "output_type": "stream",
     "text": [
      "CPU times: user 31.3 s, sys: 1.27 s, total: 32.5 s\n",
      "Wall time: 32.6 s\n"
     ]
    }
   ],
   "source": [
    "%%time\n",
    "\n",
    "from antifraud import read_adj_dict_from_file, read_into_list_of_tuples\n",
    "from graph_algorithms import Graph\n",
    "\n",
    "# set file names\n",
    "batch  = '../paymo_input/batch_payment.txt'\n",
    "stream = '../paymo_input/stream_payment.txt'\n",
    "\n",
    "# Read files\n",
    "# Turn on verboisity to see the lines that did not conform to the csv format (Note: \n",
    "# it's the same 5 or so lines over and over again)\n",
    "batch0 = read_adj_dict_from_file (batch, verbose = False)\n",
    "stream = read_into_list_of_tuples (stream, verbose = False) \n",
    "\n",
    "# attach\n",
    "batch = Graph (batch0)"
   ]
  },
  {
   "cell_type": "code",
   "execution_count": 2,
   "metadata": {},
   "outputs": [
    {
     "data": {
      "text/plain": [
       "(77360, 77360, 77360)"
      ]
     },
     "execution_count": 2,
     "metadata": {},
     "output_type": "execute_result"
    }
   ],
   "source": [
    "len (batch.adj), len (batch.adj2), batch.num_nodes"
   ]
  },
  {
   "cell_type": "code",
   "execution_count": 3,
   "metadata": {},
   "outputs": [],
   "source": [
    "def pass_fail (logic, message = ''):\n",
    "    if logic:\n",
    "        print ('[PASS]: ', end = '')\n",
    "    else:\n",
    "        print ('[FAIL]: ', end = '')\n",
    "    print (message)    "
   ]
  },
  {
   "cell_type": "markdown",
   "metadata": {},
   "source": [
    "# Test if the adacency lists (of degress 1 & 2) are self-consistent\n",
    "\n",
    "This is accomplished by making sure that it is symmetric: for adjacency list 'adj_list' and any nodes x, y of G, y is in adj_list [x] iff x is in adj_list [y]."
   ]
  },
  {
   "cell_type": "code",
   "execution_count": 4,
   "metadata": {},
   "outputs": [
    {
     "name": "stdout",
     "output_type": "stream",
     "text": [
      "CPU times: user 48.4 s, sys: 7.39 ms, total: 48.4 s\n",
      "Wall time: 48.4 s\n"
     ]
    },
    {
     "data": {
      "text/plain": [
       "True"
      ]
     },
     "execution_count": 4,
     "metadata": {},
     "output_type": "execute_result"
    }
   ],
   "source": [
    "%%time\n",
    "batch.is_self_consistent ()"
   ]
  },
  {
   "cell_type": "markdown",
   "metadata": {},
   "source": [
    "# Check if adj2 is truly inclusive"
   ]
  },
  {
   "cell_type": "code",
   "execution_count": 5,
   "metadata": {},
   "outputs": [
    {
     "name": "stdout",
     "output_type": "stream",
     "text": [
      "CPU times: user 184 ms, sys: 125 µs, total: 184 ms\n",
      "Wall time: 183 ms\n"
     ]
    },
    {
     "data": {
      "text/plain": [
       "True"
      ]
     },
     "execution_count": 5,
     "metadata": {},
     "output_type": "execute_result"
    }
   ],
   "source": [
    "%%time\n",
    "batch.is_inclusive ()"
   ]
  },
  {
   "cell_type": "markdown",
   "metadata": {},
   "source": [
    "# Check for consistency among distance functions\n",
    "Checking for inconsistency among the functions ***self.distance***, ***self.distance_lt_n***, and ***self.if_lte_deg4***."
   ]
  },
  {
   "cell_type": "code",
   "execution_count": 6,
   "metadata": {},
   "outputs": [
    {
     "name": "stdout",
     "output_type": "stream",
     "text": [
      "Number of inconsistent pairs:  0\n",
      "\n",
      "CPU times: user 15.1 s, sys: 7.9 ms, total: 15.1 s\n",
      "Wall time: 15.1 s\n"
     ]
    }
   ],
   "source": [
    "%%time\n",
    "\n",
    "# Check if distance & distance_lte give inconsistent answers\n",
    "\n",
    "total = 0 # count total number of inconsistent pairs\n",
    "\n",
    "# just check for the first 1,000 pairs. self.distance and self.distance_lte are too expensive\n",
    "for pair in stream [:1000]:\n",
    "    \n",
    "    # self.distance outputs an integer, so check if its output is > -1\n",
    "    lt4 = batch.distance (pair, n = 4) > -1\n",
    "    \n",
    "    # count number of inconsistent pairs among self.distance, self.distance_lt_n, and self.if_lte_deg4\n",
    "    if batch.distance_lte (pair, n = 4) != lt4 or batch.if_lte_deg4 (pair) != lt4:\n",
    "        total += 1\n",
    "        print (pair)\n",
    "\n",
    "        \n",
    "        \n",
    "print ('Number of inconsistent pairs: ', total, end = '\\n\\n')    "
   ]
  },
  {
   "cell_type": "markdown",
   "metadata": {},
   "source": [
    "# Further tests\n",
    "Assuming the function ***self.distance_lte*** is accurate, use it to check if the results of ***self.if_lte_deg2*** and ***self.if_lte_deg4*** are consistent with its results."
   ]
  },
  {
   "cell_type": "markdown",
   "metadata": {},
   "source": [
    "## deg 2 or fewer"
   ]
  },
  {
   "cell_type": "code",
   "execution_count": 7,
   "metadata": {},
   "outputs": [
    {
     "name": "stdout",
     "output_type": "stream",
     "text": [
      "Number of inconsistent pairs:  0\n",
      "\n",
      "CPU times: user 5.92 s, sys: 264 ms, total: 6.18 s\n",
      "Wall time: 6.18 s\n"
     ]
    }
   ],
   "source": [
    "%%time\n",
    "\n",
    "# Check if if_lte_deg2 & distance_lt_n (n=2) give inconsistent answers\n",
    "\n",
    "total = 0\n",
    "for pair in stream [:100000]:\n",
    "    if batch.if_lte_deg2 (pair) != batch.distance_lte (pair, n = 2):\n",
    "        total += 1    # count number of inconsistent pairs\n",
    "        print (pair)  # print out the inconsistent pairs\n",
    "    \n",
    "print ('Number of inconsistent pairs: ', total, end = '\\n\\n')    "
   ]
  },
  {
   "cell_type": "markdown",
   "metadata": {},
   "source": [
    "## deg 4 or fewer"
   ]
  },
  {
   "cell_type": "code",
   "execution_count": 8,
   "metadata": {},
   "outputs": [
    {
     "name": "stdout",
     "output_type": "stream",
     "text": [
      "Number of inconsistent pairs:  0\n",
      "\n",
      "CPU times: user 5.72 s, sys: 15.9 ms, total: 5.74 s\n",
      "Wall time: 5.74 s\n"
     ]
    }
   ],
   "source": [
    "%%time\n",
    "\n",
    "# Check if if_lte_deg4 & distance_lt_n (n=4) give inconsistent answers\n",
    "\n",
    "total = 0\n",
    "for pair in stream [:1000]:\n",
    "    if batch.if_lte_deg4 (pair) != batch.distance_lte (pair, n = 4):\n",
    "        total += 1\n",
    "        print (pair)\n",
    "    \n",
    "print ('Number of inconsistent pairs: ', total, end = '\\n\\n')    "
   ]
  },
  {
   "cell_type": "markdown",
   "metadata": {},
   "source": [
    "# Comparing the time the various distance functions take"
   ]
  },
  {
   "cell_type": "markdown",
   "metadata": {},
   "source": [
    "## ***self.distance***"
   ]
  },
  {
   "cell_type": "code",
   "execution_count": 9,
   "metadata": {},
   "outputs": [
    {
     "name": "stdout",
     "output_type": "stream",
     "text": [
      "934\n",
      "\n",
      "CPU times: user 9.58 s, sys: 6.94 ms, total: 9.59 s\n",
      "Wall time: 9.59 s\n"
     ]
    }
   ],
   "source": [
    "%%time\n",
    "\n",
    "total = 0\n",
    "for pair in stream [:1000]:\n",
    "    if batch.distance (pair, n = 4) > -1:\n",
    "        total += 1\n",
    "    \n",
    "print (total, end = '\\n\\n')    "
   ]
  },
  {
   "cell_type": "markdown",
   "metadata": {},
   "source": [
    "## ***self.distance_lte***"
   ]
  },
  {
   "cell_type": "code",
   "execution_count": 10,
   "metadata": {},
   "outputs": [
    {
     "name": "stdout",
     "output_type": "stream",
     "text": [
      "934\n",
      "\n",
      "CPU times: user 5.38 s, sys: 0 ns, total: 5.38 s\n",
      "Wall time: 5.38 s\n"
     ]
    }
   ],
   "source": [
    "%%time\n",
    "\n",
    "total = 0\n",
    "for pair in stream [:1000]:\n",
    "    if batch.distance_lte (pair, n = 4):\n",
    "        total += 1\n",
    "    \n",
    "print (total, end = '\\n\\n')    "
   ]
  },
  {
   "cell_type": "markdown",
   "metadata": {},
   "source": [
    "## ***self.if_lte_deg4***"
   ]
  },
  {
   "cell_type": "code",
   "execution_count": 11,
   "metadata": {},
   "outputs": [
    {
     "name": "stdout",
     "output_type": "stream",
     "text": [
      "934\n",
      "\n",
      "CPU times: user 16 ms, sys: 0 ns, total: 16 ms\n",
      "Wall time: 15.9 ms\n"
     ]
    }
   ],
   "source": [
    "%%time\n",
    "\n",
    "total = 0\n",
    "for pair in stream [:1000]:\n",
    "    if batch.if_lte_deg4 (pair):\n",
    "        total += 1\n",
    "    \n",
    "print (total, end = '\\n\\n')"
   ]
  },
  {
   "cell_type": "markdown",
   "metadata": {},
   "source": [
    "## Speedup\n",
    "\n",
    "From the above, the time it takes each function to compute the degree of separation of a pair (up to deg 4), is\n",
    "\n",
    "|function|time|times slower than ***if_lte_deg4***|\n",
    "|---|---|---|\n",
    "|***distance***|10.1 s |359.4|\n",
    "|***distance_let***|5.35 s|190.4|\n",
    "|***if_lte_deg4***|28.1 ms|1|"
   ]
  },
  {
   "cell_type": "markdown",
   "metadata": {},
   "source": [
    "# Timing the functions using only pairs of deg 4 & 5 apart"
   ]
  },
  {
   "cell_type": "code",
   "execution_count": 12,
   "metadata": {},
   "outputs": [],
   "source": [
    "from time import time"
   ]
  },
  {
   "cell_type": "code",
   "execution_count": 13,
   "metadata": {},
   "outputs": [],
   "source": [
    "# build lists of pairs of distance 4 & 5 apart and store into dist4 & dist5, resp.\n",
    "\n",
    "dist4, dist5 = [], []\n",
    "\n",
    "k, l = 0, 0\n",
    "for pair in stream:\n",
    "    dist = batch.distance (pair, n = 5)\n",
    "    \n",
    "    if dist == 5:\n",
    "        dist5.append (pair)\n",
    "        k += 1\n",
    "    elif dist == 4:\n",
    "        dist4.append (pair)\n",
    "        l += 1\n",
    "        \n",
    "    if k >= 100 and l >= 100:\n",
    "        break\n",
    "        \n",
    "# only want the first 100 pairs of each\n",
    "dist4 = dist4 [:100]\n",
    "dist5 = dist5 [:100]"
   ]
  },
  {
   "cell_type": "markdown",
   "metadata": {},
   "source": [
    "## Get worst-case scenario comparison"
   ]
  },
  {
   "cell_type": "code",
   "execution_count": 14,
   "metadata": {},
   "outputs": [
    {
     "name": "stdout",
     "output_type": "stream",
     "text": [
      "elapsed time method 1: 171.45872116088867 us\n",
      "elapsed time method 2: 43.9630126953125 ms\n",
      "dt_method_2 / dt_method_1:  256.40581241743723\n",
      "\n"
     ]
    }
   ],
   "source": [
    "# worst-case scenario (uses dist5)\n",
    "\n",
    "t1 = time ()\n",
    "for pair in dist5:\n",
    "    batch.if_lte_deg4 (pair)\n",
    "\n",
    "t2 = time ()\n",
    "\n",
    "for pair in dist5:\n",
    "    batch.distance_lte\n",
    "    batch.distance_lte (pair, 4)\n",
    "\n",
    "t3 = time ()\n",
    "\n",
    "dt_method_1 = t2 - t1\n",
    "dt_method_2 = t3 - t2\n",
    "print ('elapsed time method 1: {} us'.format (dt_method_1 * 1e6 / 100))\n",
    "print ('elapsed time method 2: {} ms'.format (dt_method_2 * 1e3 / 100))\n",
    "print ('dt_method_2 / dt_method_1: ', dt_method_2 / dt_method_1, end = '\\n\\n')"
   ]
  },
  {
   "cell_type": "markdown",
   "metadata": {},
   "source": [
    "## average case scenario"
   ]
  },
  {
   "cell_type": "code",
   "execution_count": 15,
   "metadata": {},
   "outputs": [
    {
     "name": "stdout",
     "output_type": "stream",
     "text": [
      "elapsed time method 1: 55.07230758666992 us\n",
      "elapsed time method 2: 27.256712913513184 ms\n",
      "dt_method_2 / dt_method_1:  494.9259275293303\n",
      "\n"
     ]
    }
   ],
   "source": [
    "# average case scenario (uses dist4)\n",
    "\n",
    "t1 = time ()\n",
    "for pair in dist4:\n",
    "    batch.if_lte_deg4 (pair)\n",
    "\n",
    "t2 = time ()\n",
    "\n",
    "for pair in dist4:\n",
    "    batch.distance_lte (pair, 4)\n",
    "\n",
    "t3 = time ()\n",
    "\n",
    "dt_method_1 = t2 - t1\n",
    "dt_method_2 = t3 - t2\n",
    "print ('elapsed time method 1: {} us'.format (dt_method_1 * 1e6 / 100))\n",
    "print ('elapsed time method 2: {} ms'.format (dt_method_2 * 1e3 / 100))\n",
    "print ('dt_method_2 / dt_method_1: ', dt_method_2 / dt_method_1, end = '\\n\\n')"
   ]
  }
 ],
 "metadata": {
  "kernelspec": {
   "display_name": "Python 3",
   "language": "python",
   "name": "python3"
  },
  "language_info": {
   "codemirror_mode": {
    "name": "ipython",
    "version": 3
   },
   "file_extension": ".py",
   "mimetype": "text/x-python",
   "name": "python",
   "nbconvert_exporter": "python",
   "pygments_lexer": "ipython3",
   "version": "3.7.1"
  }
 },
 "nbformat": 4,
 "nbformat_minor": 2
}
