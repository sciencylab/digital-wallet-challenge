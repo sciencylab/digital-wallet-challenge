{
 "cells": [
  {
   "cell_type": "markdown",
   "metadata": {},
   "source": [
    "# Unit tests and speed comparison of the various distance functions"
   ]
  },
  {
   "cell_type": "code",
   "execution_count": 3,
   "metadata": {},
   "outputs": [
    {
     "name": "stdout",
     "output_type": "stream",
     "text": [
      "CPU times: user 14.6 s, sys: 292 ms, total: 14.9 s\n",
      "Wall time: 14.8 s\n"
     ]
    }
   ],
   "source": [
    "%%time\n",
    "\n",
    "from antifraud import read_adj_dict_from_file, read_into_list_of_tuples\n",
    "from graph_algorithms import Graph\n",
    "\n",
    "# set file names\n",
    "batch  = '../paymo_input/batch_payment.txt'\n",
    "stream = '../paymo_input/stream_payment.txt'\n",
    "\n",
    "# Read files\n",
    "# Turn on verboisity to see the lines that did not conform to the csv format (Note: \n",
    "# it's the same 5 or so lines over and over again)\n",
    "batch0 = read_adj_dict_from_file (batch, verbose = False)\n",
    "stream = read_into_list_of_tuples (stream, verbose = False) \n",
    "\n",
    "# attach\n",
    "batch = Graph (batch0)"
   ]
  },
  {
   "cell_type": "code",
   "execution_count": 2,
   "metadata": {},
   "outputs": [
    {
     "data": {
      "text/plain": [
       "(77360, 77360)"
      ]
     },
     "execution_count": 2,
     "metadata": {},
     "output_type": "execute_result"
    }
   ],
   "source": [
    "len (batch.adj), batch.num_nodes"
   ]
  },
  {
   "cell_type": "code",
   "execution_count": 3,
   "metadata": {},
   "outputs": [],
   "source": [
    "def pass_fail (logic, message = ''):\n",
    "    if logic:\n",
    "        print ('[PASS]: ', end = '')\n",
    "    else:\n",
    "        print ('[FAIL]: ', end = '')\n",
    "    print (message)    "
   ]
  },
  {
   "cell_type": "markdown",
   "metadata": {},
   "source": [
    "# Test if the adacency list is self-consistent\n",
    "\n",
    "This is accomplished by making sure that it is symmetric: for adjacency list 'adj' and any nodes x, y of G, y is in adj [x] iff x is in adj [y]."
   ]
  },
  {
   "cell_type": "code",
   "execution_count": 4,
   "metadata": {},
   "outputs": [
    {
     "name": "stdout",
     "output_type": "stream",
     "text": [
      "CPU times: user 431 ms, sys: 0 ns, total: 431 ms\n",
      "Wall time: 429 ms\n"
     ]
    },
    {
     "data": {
      "text/plain": [
       "True"
      ]
     },
     "execution_count": 4,
     "metadata": {},
     "output_type": "execute_result"
    }
   ],
   "source": [
    "%time batch.is_self_consistent ()"
   ]
  },
  {
   "cell_type": "markdown",
   "metadata": {},
   "source": [
    "# Check for consistency among distance functions\n",
    "Checking for inconsistency among the functions ***self.distance*** and ***self.distance_lte***"
   ]
  },
  {
   "cell_type": "code",
   "execution_count": 5,
   "metadata": {},
   "outputs": [
    {
     "name": "stdout",
     "output_type": "stream",
     "text": [
      "Number of inconsistent pairs:  0\n",
      "\n",
      "CPU times: user 15.2 s, sys: 10 ms, total: 15.2 s\n",
      "Wall time: 15.2 s\n"
     ]
    }
   ],
   "source": [
    "%%time\n",
    "\n",
    "# Check if distance & distance_lte give inconsistent answers\n",
    "\n",
    "total = 0 # count total number of inconsistent pairs\n",
    "\n",
    "# just check for the first 1,000 pairs. self.distance and self.distance_lte are too expensive\n",
    "for pair in stream [:1000]:\n",
    "    \n",
    "    # self.distance outputs an integer, so check if its output is > -1\n",
    "    lt4 = batch.distance (pair, n = 4) > -1\n",
    "    \n",
    "    # count number of inconsistent pairs among self.distance, self.distance_lt_n, and self.if_lte_deg4\n",
    "    if batch.distance_lte (pair, n = 4) != lt4:\n",
    "        total += 1\n",
    "        print (pair)\n",
    "\n",
    "        \n",
    "        \n",
    "print ('Number of inconsistent pairs: ', total, end = '\\n\\n')    "
   ]
  },
  {
   "cell_type": "markdown",
   "metadata": {},
   "source": [
    "# Further tests\n",
    "Assuming the function ***self.distance_lte*** is accurate, use it to check if the results of ***self.if_lte_deg2*** and ***self.if_lte_deg4*** are consistent with its results."
   ]
  },
  {
   "cell_type": "markdown",
   "metadata": {},
   "source": [
    "## deg 2 or fewer"
   ]
  },
  {
   "cell_type": "code",
   "execution_count": 6,
   "metadata": {},
   "outputs": [
    {
     "name": "stdout",
     "output_type": "stream",
     "text": [
      "Number of inconsistent pairs:  0\n",
      "\n",
      "CPU times: user 5.61 s, sys: 3.95 ms, total: 5.61 s\n",
      "Wall time: 5.58 s\n"
     ]
    }
   ],
   "source": [
    "%%time\n",
    "\n",
    "# Check if if_lte_deg2 & distance_lt_n (n=2) give inconsistent answers\n",
    "\n",
    "total = 0\n",
    "for pair in stream [:100000]:\n",
    "    if batch.if_lte_deg2 (pair) != batch.distance_lte (pair, n = 2):\n",
    "        total += 1    # count number of inconsistent pairs\n",
    "        print (pair)  # print out the inconsistent pairs\n",
    "    \n",
    "print ('Number of inconsistent pairs: ', total, end = '\\n\\n')    "
   ]
  },
  {
   "cell_type": "code",
   "execution_count": 7,
   "metadata": {},
   "outputs": [],
   "source": [
    "pair = (34762, 9166)"
   ]
  },
  {
   "cell_type": "code",
   "execution_count": 8,
   "metadata": {},
   "outputs": [
    {
     "data": {
      "text/plain": [
       "(3, False)"
      ]
     },
     "execution_count": 8,
     "metadata": {},
     "output_type": "execute_result"
    }
   ],
   "source": [
    "batch.distance (pair), batch.distance_lte (pair, 2)"
   ]
  },
  {
   "cell_type": "code",
   "execution_count": 9,
   "metadata": {},
   "outputs": [
    {
     "data": {
      "text/plain": [
       "(False, False, True)"
      ]
     },
     "execution_count": 9,
     "metadata": {},
     "output_type": "execute_result"
    }
   ],
   "source": [
    "batch.if_lte_deg1 (pair), batch.if_lte_deg2 (pair), batch.if_lte_deg4 (pair)"
   ]
  },
  {
   "cell_type": "code",
   "execution_count": 10,
   "metadata": {},
   "outputs": [
    {
     "data": {
      "text/plain": [
       "(False, False, 0)"
      ]
     },
     "execution_count": 10,
     "metadata": {},
     "output_type": "execute_result"
    }
   ],
   "source": [
    "a, b = pair\n",
    "a in batch.adj [b], b in batch.adj [a], len (batch.adj [a] & batch.adj [b])"
   ]
  },
  {
   "cell_type": "markdown",
   "metadata": {},
   "source": [
    "## deg 4 or fewer"
   ]
  },
  {
   "cell_type": "code",
   "execution_count": 11,
   "metadata": {},
   "outputs": [
    {
     "name": "stdout",
     "output_type": "stream",
     "text": [
      "Number of inconsistent pairs:  0\n",
      "\n",
      "CPU times: user 5.57 s, sys: 1.57 ms, total: 5.57 s\n",
      "Wall time: 5.4 s\n"
     ]
    }
   ],
   "source": [
    "%%time\n",
    "\n",
    "# Check if if_lte_deg4 & distance_lt_n (n=4) give inconsistent answers\n",
    "\n",
    "total = 0\n",
    "for pair in stream [:1000]:\n",
    "    if batch.if_lte_deg4 (pair) != batch.distance_lte (pair, n = 4):\n",
    "        total += 1\n",
    "        print (pair)\n",
    "    \n",
    "print ('Number of inconsistent pairs: ', total, end = '\\n\\n')    "
   ]
  },
  {
   "cell_type": "markdown",
   "metadata": {},
   "source": [
    "# Comparing the time the various distance functions take"
   ]
  },
  {
   "cell_type": "markdown",
   "metadata": {},
   "source": [
    "## ***self.distance***"
   ]
  },
  {
   "cell_type": "code",
   "execution_count": 12,
   "metadata": {},
   "outputs": [
    {
     "name": "stdout",
     "output_type": "stream",
     "text": [
      "934\n",
      "\n",
      "CPU times: user 9.69 s, sys: 4.21 ms, total: 9.7 s\n",
      "Wall time: 9.58 s\n"
     ]
    }
   ],
   "source": [
    "%%time\n",
    "\n",
    "total = 0\n",
    "for pair in stream [:1000]:\n",
    "    if batch.distance (pair, n = 4) > -1:\n",
    "        total += 1\n",
    "    \n",
    "print (total, end = '\\n\\n')    "
   ]
  },
  {
   "cell_type": "markdown",
   "metadata": {},
   "source": [
    "## ***self.distance_lte***"
   ]
  },
  {
   "cell_type": "code",
   "execution_count": 13,
   "metadata": {},
   "outputs": [
    {
     "name": "stdout",
     "output_type": "stream",
     "text": [
      "934\n",
      "\n",
      "CPU times: user 5.52 s, sys: 3.78 ms, total: 5.52 s\n",
      "Wall time: 5.5 s\n"
     ]
    }
   ],
   "source": [
    "%%time\n",
    "\n",
    "total = 0\n",
    "for pair in stream [:1000]:\n",
    "    if batch.distance_lte (pair, n = 4):\n",
    "        total += 1\n",
    "    \n",
    "print (total, end = '\\n\\n')    "
   ]
  },
  {
   "cell_type": "markdown",
   "metadata": {},
   "source": [
    "## ***self.if_lte_deg4***"
   ]
  },
  {
   "cell_type": "code",
   "execution_count": 20,
   "metadata": {},
   "outputs": [
    {
     "name": "stdout",
     "output_type": "stream",
     "text": [
      "61.8 ms ± 2.96 ms per loop (mean ± std. dev. of 7 runs, 10 loops each)\n"
     ]
    }
   ],
   "source": [
    "%%timeit\n",
    "\n",
    "total = 0\n",
    "for pair in stream [:1000]:\n",
    "    if batch.if_lte_deg4 (pair):\n",
    "        total += 1\n",
    "    \n",
    "#print (total, end = '\\n\\n')"
   ]
  },
  {
   "cell_type": "markdown",
   "metadata": {},
   "source": [
    "## Speedup\n",
    "\n",
    "From the above, the time it takes each function to compute the degree of separation of a pair (up to deg 4), is\n",
    "\n",
    "|function|time|times slower than ***if_lte_deg4***|\n",
    "|---|---|---|\n",
    "|***distance***|9.44 s |143.7|\n",
    "|***distance_let***|5.34 s|81.3|\n",
    "|***if_lte_deg4***|65.7 ms|1|"
   ]
  },
  {
   "cell_type": "markdown",
   "metadata": {},
   "source": [
    "# Timing the functions using only pairs of deg 4 & 5 apart"
   ]
  },
  {
   "cell_type": "code",
   "execution_count": 15,
   "metadata": {},
   "outputs": [],
   "source": [
    "from time import time"
   ]
  },
  {
   "cell_type": "code",
   "execution_count": 16,
   "metadata": {},
   "outputs": [],
   "source": [
    "# build lists of pairs of distance 4 & 5 apart and store into dist4 & dist5, resp.\n",
    "\n",
    "dist4, dist5 = [], []\n",
    "\n",
    "k, l = 0, 0\n",
    "for pair in stream:\n",
    "    dist = batch.distance (pair, n = 5)\n",
    "    \n",
    "    if dist == 5:\n",
    "        dist5.append (pair)\n",
    "        k += 1\n",
    "    elif dist == 4:\n",
    "        dist4.append (pair)\n",
    "        l += 1\n",
    "        \n",
    "    if k >= 100 and l >= 100:\n",
    "        break\n",
    "        \n",
    "# only want the first 100 pairs of each\n",
    "dist4 = dist4 [:100]\n",
    "dist5 = dist5 [:100]"
   ]
  },
  {
   "cell_type": "markdown",
   "metadata": {},
   "source": [
    "## Get worst-case scenario comparison"
   ]
  },
  {
   "cell_type": "code",
   "execution_count": 17,
   "metadata": {},
   "outputs": [
    {
     "name": "stdout",
     "output_type": "stream",
     "text": [
      "elapsed time method 1: 83.21285247802734 us\n",
      "elapsed time method 2: 42.61211395263672 ms\n",
      "dt_method_2 / dt_method_1:  512.0857257463756\n",
      "\n"
     ]
    }
   ],
   "source": [
    "# worst-case scenario (uses dist5)\n",
    "\n",
    "t1 = time ()\n",
    "for pair in dist5:\n",
    "    batch.if_lte_deg4 (pair)\n",
    "\n",
    "t2 = time ()\n",
    "\n",
    "for pair in dist5:\n",
    "    batch.distance_lte\n",
    "    batch.distance_lte (pair, 4)\n",
    "\n",
    "t3 = time ()\n",
    "\n",
    "dt_method_1 = t2 - t1\n",
    "dt_method_2 = t3 - t2\n",
    "print ('elapsed time method 1: {} us'.format (dt_method_1 * 1e6 / 100))\n",
    "print ('elapsed time method 2: {} ms'.format (dt_method_2 * 1e3 / 100))\n",
    "print ('dt_method_2 / dt_method_1: ', dt_method_2 / dt_method_1, end = '\\n\\n')"
   ]
  },
  {
   "cell_type": "markdown",
   "metadata": {},
   "source": [
    "## average case scenario"
   ]
  },
  {
   "cell_type": "code",
   "execution_count": 18,
   "metadata": {},
   "outputs": [
    {
     "name": "stdout",
     "output_type": "stream",
     "text": [
      "elapsed time method 1: 241.5609359741211 us\n",
      "elapsed time method 2: 26.98106050491333 ms\n",
      "dt_method_2 / dt_method_1:  111.69463471446338\n",
      "\n"
     ]
    }
   ],
   "source": [
    "# average case scenario (uses dist4)\n",
    "\n",
    "t1 = time ()\n",
    "for pair in dist4:\n",
    "    batch.if_lte_deg4 (pair)\n",
    "\n",
    "t2 = time ()\n",
    "\n",
    "for pair in dist4:\n",
    "    batch.distance_lte (pair, 4)\n",
    "\n",
    "t3 = time ()\n",
    "\n",
    "dt_method_1 = t2 - t1\n",
    "dt_method_2 = t3 - t2\n",
    "print ('elapsed time method 1: {} us'.format (dt_method_1 * 1e6 / 100))\n",
    "print ('elapsed time method 2: {} ms'.format (dt_method_2 * 1e3 / 100))\n",
    "print ('dt_method_2 / dt_method_1: ', dt_method_2 / dt_method_1, end = '\\n\\n')"
   ]
  },
  {
   "cell_type": "code",
   "execution_count": null,
   "metadata": {},
   "outputs": [],
   "source": []
  }
 ],
 "metadata": {
  "kernelspec": {
   "display_name": "Python 3",
   "language": "python",
   "name": "python3"
  },
  "language_info": {
   "codemirror_mode": {
    "name": "ipython",
    "version": 3
   },
   "file_extension": ".py",
   "mimetype": "text/x-python",
   "name": "python",
   "nbconvert_exporter": "python",
   "pygments_lexer": "ipython3",
   "version": "3.7.1"
  }
 },
 "nbformat": 4,
 "nbformat_minor": 2
}
